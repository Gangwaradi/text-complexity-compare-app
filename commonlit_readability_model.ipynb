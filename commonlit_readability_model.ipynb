{
  "nbformat": 4,
  "nbformat_minor": 0,
  "metadata": {
    "colab": {
      "name": "commonlit-readability-model.ipynb",
      "provenance": []
    },
    "kernelspec": {
      "display_name": "Python 3",
      "language": "python",
      "name": "python3"
    },
    "language_info": {
      "codemirror_mode": {
        "name": "ipython",
        "version": 3
      },
      "file_extension": ".py",
      "mimetype": "text/x-python",
      "name": "python",
      "nbconvert_exporter": "python",
      "pygments_lexer": "ipython3",
      "version": "3.6.4"
    }
  },
  "cells": [
    {
      "cell_type": "markdown",
      "metadata": {
        "id": "ezMcMRLbxSnr"
      },
      "source": [
        "**Adesh Kumar**\n",
        "\n",
        "**IIT(ISM) Dhanbad**"
      ]
    },
    {
      "cell_type": "markdown",
      "metadata": {
        "id": "ZE83qzK_pEI4"
      },
      "source": [
        "## Necessary libraries"
      ]
    },
    {
      "cell_type": "code",
      "metadata": {
        "id": "viX_9_AnpEI6"
      },
      "source": [
        "%matplotlib inline\n",
        "import warnings\n",
        "warnings.filterwarnings(\"ignore\")\n",
        "\n",
        "import pandas as pd\n",
        "import numpy as np\n",
        "import matplotlib.pyplot as plt\n",
        "import seaborn as sns\n",
        "\n",
        "import re\n",
        "import nltk\n",
        "from nltk.corpus import stopwords\n",
        "from nltk.stem.snowball import SnowballStemmer\n",
        "from nltk.tokenize import word_tokenize\n",
        "\n",
        "import tqdm as tqdm\n",
        "from scipy.sparse import hstack\n",
        "from scipy.sparse import coo_matrix\n",
        "from scipy.sparse import hstack\n",
        "from scipy.sparse import coo_matrix\n",
        "from gensim.models import Word2Vec\n",
        "\n",
        "from sklearn.metrics import mean_squared_error\n",
        "from sklearn.preprocessing import MinMaxScaler\n",
        "from sklearn.feature_extraction.text import TfidfVectorizer\n",
        "from sklearn.feature_extraction.text import CountVectorizer\n",
        "from sklearn.model_selection import train_test_split\n",
        "from sklearn.neighbors import KNeighborsRegressor\n",
        "from sklearn.ensemble import RandomForestRegressor\n",
        "from sklearn.ensemble import GradientBoostingRegressor\n",
        "from sklearn.linear_model import LinearRegression\n",
        "from sklearn.svm import LinearSVR"
      ],
      "execution_count": null,
      "outputs": []
    },
    {
      "cell_type": "code",
      "metadata": {
        "colab": {
          "base_uri": "https://localhost:8080/"
        },
        "id": "QvoKLeidqqs0",
        "outputId": "fac5c55a-bcf7-4a82-e1e6-115b66c55990"
      },
      "source": [
        "\n",
        "from google.colab import drive\n",
        "drive.mount('/content/drive')"
      ],
      "execution_count": null,
      "outputs": [
        {
          "name": "stdout",
          "output_type": "stream",
          "text": [
            "Mounted at /content/drive\n"
          ]
        }
      ]
    },
    {
      "cell_type": "markdown",
      "metadata": {
        "id": "sf2-R6O8pEI9"
      },
      "source": [
        "## Reading the data\n",
        "Read train.csv and test.csv file"
      ]
    },
    {
      "cell_type": "code",
      "metadata": {
        "colab": {
          "base_uri": "https://localhost:8080/"
        },
        "id": "X36C7AmdpEI_",
        "outputId": "42a3e8c1-9128-4135-b817-7ce5f7746ada"
      },
      "source": [
        "train_data = pd.read_csv(\"/content/drive/MyDrive/commonlitreadabilityprize/train.csv\")\n",
        "test_data = pd.read_csv(\"/content/drive/MyDrive/commonlitreadabilityprize/test.csv\")\n",
        "print(\"Shape of train data: \", train_data.shape)\n",
        "print(\"attributes in train data: \", train_data.columns.values)\n",
        "print(\"=\"*50)\n",
        "print(\"Shape of test data: \", test_data.shape)\n",
        "print(\"attributes in test data: \", test_data.columns.values)"
      ],
      "execution_count": null,
      "outputs": [
        {
          "name": "stdout",
          "output_type": "stream",
          "text": [
            "Shape of train data:  (2834, 6)\n",
            "attributes in train data:  ['id' 'url_legal' 'license' 'excerpt' 'target' 'standard_error']\n",
            "==================================================\n",
            "Shape of test data:  (7, 4)\n",
            "attributes in test data:  ['id' 'url_legal' 'license' 'excerpt']\n"
          ]
        }
      ]
    },
    {
      "cell_type": "markdown",
      "metadata": {
        "id": "7AsXd0S2pEJA"
      },
      "source": [
        "## Exploratory data Analysis"
      ]
    },
    {
      "cell_type": "code",
      "metadata": {
        "colab": {
          "base_uri": "https://localhost:8080/",
          "height": 204
        },
        "id": "zyJchpr4pEJC",
        "outputId": "b0e1df15-6a85-429d-e43f-e0ab36e817de"
      },
      "source": [
        "train_data.head()"
      ],
      "execution_count": null,
      "outputs": [
        {
          "data": {
            "text/html": [
              "<div>\n",
              "<style scoped>\n",
              "    .dataframe tbody tr th:only-of-type {\n",
              "        vertical-align: middle;\n",
              "    }\n",
              "\n",
              "    .dataframe tbody tr th {\n",
              "        vertical-align: top;\n",
              "    }\n",
              "\n",
              "    .dataframe thead th {\n",
              "        text-align: right;\n",
              "    }\n",
              "</style>\n",
              "<table border=\"1\" class=\"dataframe\">\n",
              "  <thead>\n",
              "    <tr style=\"text-align: right;\">\n",
              "      <th></th>\n",
              "      <th>id</th>\n",
              "      <th>url_legal</th>\n",
              "      <th>license</th>\n",
              "      <th>excerpt</th>\n",
              "      <th>target</th>\n",
              "      <th>standard_error</th>\n",
              "    </tr>\n",
              "  </thead>\n",
              "  <tbody>\n",
              "    <tr>\n",
              "      <th>0</th>\n",
              "      <td>c12129c31</td>\n",
              "      <td>NaN</td>\n",
              "      <td>NaN</td>\n",
              "      <td>When the young people returned to the ballroom...</td>\n",
              "      <td>-0.340259</td>\n",
              "      <td>0.464009</td>\n",
              "    </tr>\n",
              "    <tr>\n",
              "      <th>1</th>\n",
              "      <td>85aa80a4c</td>\n",
              "      <td>NaN</td>\n",
              "      <td>NaN</td>\n",
              "      <td>All through dinner time, Mrs. Fayre was somewh...</td>\n",
              "      <td>-0.315372</td>\n",
              "      <td>0.480805</td>\n",
              "    </tr>\n",
              "    <tr>\n",
              "      <th>2</th>\n",
              "      <td>b69ac6792</td>\n",
              "      <td>NaN</td>\n",
              "      <td>NaN</td>\n",
              "      <td>As Roger had predicted, the snow departed as q...</td>\n",
              "      <td>-0.580118</td>\n",
              "      <td>0.476676</td>\n",
              "    </tr>\n",
              "    <tr>\n",
              "      <th>3</th>\n",
              "      <td>dd1000b26</td>\n",
              "      <td>NaN</td>\n",
              "      <td>NaN</td>\n",
              "      <td>And outside before the palace a great garden w...</td>\n",
              "      <td>-1.054013</td>\n",
              "      <td>0.450007</td>\n",
              "    </tr>\n",
              "    <tr>\n",
              "      <th>4</th>\n",
              "      <td>37c1b32fb</td>\n",
              "      <td>NaN</td>\n",
              "      <td>NaN</td>\n",
              "      <td>Once upon a time there were Three Bears who li...</td>\n",
              "      <td>0.247197</td>\n",
              "      <td>0.510845</td>\n",
              "    </tr>\n",
              "  </tbody>\n",
              "</table>\n",
              "</div>"
            ],
            "text/plain": [
              "          id url_legal  ...    target standard_error\n",
              "0  c12129c31       NaN  ... -0.340259       0.464009\n",
              "1  85aa80a4c       NaN  ... -0.315372       0.480805\n",
              "2  b69ac6792       NaN  ... -0.580118       0.476676\n",
              "3  dd1000b26       NaN  ... -1.054013       0.450007\n",
              "4  37c1b32fb       NaN  ...  0.247197       0.510845\n",
              "\n",
              "[5 rows x 6 columns]"
            ]
          },
          "execution_count": 5,
          "metadata": {},
          "output_type": "execute_result"
        }
      ]
    },
    {
      "cell_type": "code",
      "metadata": {
        "colab": {
          "base_uri": "https://localhost:8080/",
          "height": 204
        },
        "id": "xOoC4_MEpEJE",
        "outputId": "3b4d03cf-396f-44bb-ad69-d12cba0df64a"
      },
      "source": [
        "test_data.head()"
      ],
      "execution_count": null,
      "outputs": [
        {
          "data": {
            "text/html": [
              "<div>\n",
              "<style scoped>\n",
              "    .dataframe tbody tr th:only-of-type {\n",
              "        vertical-align: middle;\n",
              "    }\n",
              "\n",
              "    .dataframe tbody tr th {\n",
              "        vertical-align: top;\n",
              "    }\n",
              "\n",
              "    .dataframe thead th {\n",
              "        text-align: right;\n",
              "    }\n",
              "</style>\n",
              "<table border=\"1\" class=\"dataframe\">\n",
              "  <thead>\n",
              "    <tr style=\"text-align: right;\">\n",
              "      <th></th>\n",
              "      <th>id</th>\n",
              "      <th>url_legal</th>\n",
              "      <th>license</th>\n",
              "      <th>excerpt</th>\n",
              "    </tr>\n",
              "  </thead>\n",
              "  <tbody>\n",
              "    <tr>\n",
              "      <th>0</th>\n",
              "      <td>c0f722661</td>\n",
              "      <td>NaN</td>\n",
              "      <td>NaN</td>\n",
              "      <td>My hope lay in Jack's promise that he would ke...</td>\n",
              "    </tr>\n",
              "    <tr>\n",
              "      <th>1</th>\n",
              "      <td>f0953f0a5</td>\n",
              "      <td>NaN</td>\n",
              "      <td>NaN</td>\n",
              "      <td>Dotty continued to go to Mrs. Gray's every nig...</td>\n",
              "    </tr>\n",
              "    <tr>\n",
              "      <th>2</th>\n",
              "      <td>0df072751</td>\n",
              "      <td>NaN</td>\n",
              "      <td>NaN</td>\n",
              "      <td>It was a bright and cheerful scene that greete...</td>\n",
              "    </tr>\n",
              "    <tr>\n",
              "      <th>3</th>\n",
              "      <td>04caf4e0c</td>\n",
              "      <td>https://en.wikipedia.org/wiki/Cell_division</td>\n",
              "      <td>CC BY-SA 3.0</td>\n",
              "      <td>Cell division is the process by which a parent...</td>\n",
              "    </tr>\n",
              "    <tr>\n",
              "      <th>4</th>\n",
              "      <td>0e63f8bea</td>\n",
              "      <td>https://en.wikipedia.org/wiki/Debugging</td>\n",
              "      <td>CC BY-SA 3.0</td>\n",
              "      <td>Debugging is the process of finding and resolv...</td>\n",
              "    </tr>\n",
              "  </tbody>\n",
              "</table>\n",
              "</div>"
            ],
            "text/plain": [
              "          id  ...                                            excerpt\n",
              "0  c0f722661  ...  My hope lay in Jack's promise that he would ke...\n",
              "1  f0953f0a5  ...  Dotty continued to go to Mrs. Gray's every nig...\n",
              "2  0df072751  ...  It was a bright and cheerful scene that greete...\n",
              "3  04caf4e0c  ...  Cell division is the process by which a parent...\n",
              "4  0e63f8bea  ...  Debugging is the process of finding and resolv...\n",
              "\n",
              "[5 rows x 4 columns]"
            ]
          },
          "execution_count": 6,
          "metadata": {},
          "output_type": "execute_result"
        }
      ]
    },
    {
      "cell_type": "code",
      "metadata": {
        "colab": {
          "base_uri": "https://localhost:8080/"
        },
        "id": "tatmWKhtpEJG",
        "outputId": "295026ea-2224-4752-c3ec-b24ec7eb452b"
      },
      "source": [
        "print(\"Number of null values in train data attribute wise:\")\n",
        "print(train_data.isnull().sum())\n",
        "print(\"=\"*50)\n",
        "print(\"Number of null values in test data attribute wise:\")\n",
        "print(test_data.isnull().sum())"
      ],
      "execution_count": null,
      "outputs": [
        {
          "name": "stdout",
          "output_type": "stream",
          "text": [
            "Number of null values in train data attribute wise:\n",
            "id                   0\n",
            "url_legal         2004\n",
            "license           2004\n",
            "excerpt              0\n",
            "target               0\n",
            "standard_error       0\n",
            "dtype: int64\n",
            "==================================================\n",
            "Number of null values in test data attribute wise:\n",
            "id           0\n",
            "url_legal    4\n",
            "license      4\n",
            "excerpt      0\n",
            "dtype: int64\n"
          ]
        }
      ]
    },
    {
      "cell_type": "markdown",
      "metadata": {
        "id": "KfYY9LIkpEJI"
      },
      "source": [
        "**Hands on Feature Engineering**"
      ]
    },
    {
      "cell_type": "markdown",
      "metadata": {
        "id": "Li2YsXkFsIW6"
      },
      "source": [
        "**Word_count:** Total Number of words in excerpts\n",
        "\n",
        "**excerpt_len:** length of excerpt text\n",
        "\n",
        "**ratio:** ratio of word_count and excerpt_len\n",
        "\n",
        "**TWC:** token word count in excerpt\n",
        "\n",
        "**PWC:** word count after processing in excerpt\n",
        "\n",
        "**SWC:** stop words count in excerpt"
      ]
    },
    {
      "cell_type": "code",
      "metadata": {
        "id": "JNuGcrFtpEJI"
      },
      "source": [
        "def word_count(text):\n",
        "    text = text.split()\n",
        "    return len(text)"
      ],
      "execution_count": null,
      "outputs": []
    },
    {
      "cell_type": "code",
      "metadata": {
        "id": "Hnf-sZSSpEJJ"
      },
      "source": [
        "train_data[\"word_count\"] = train_data[\"excerpt\"].apply(lambda x: word_count(x))\n",
        "train_data[\"excerpt_len\"] = train_data[\"excerpt\"].apply(lambda x: len(x))\n",
        "\n",
        "test_data[\"word_count\"] = test_data[\"excerpt\"].apply(lambda x: word_count(x))\n",
        "test_data[\"excerpt_len\"] = test_data[\"excerpt\"].apply(lambda x: len(x))"
      ],
      "execution_count": null,
      "outputs": []
    },
    {
      "cell_type": "code",
      "metadata": {
        "id": "u3C2YT43pEJN"
      },
      "source": [
        "train_data['ratio'] = np.divide(train_data['word_count'], train_data['excerpt_len'])\n",
        "test_data['ratio'] = np.divide(test_data['word_count'], test_data['excerpt_len'])"
      ],
      "execution_count": null,
      "outputs": []
    },
    {
      "cell_type": "code",
      "metadata": {
        "colab": {
          "base_uri": "https://localhost:8080/",
          "height": 204
        },
        "id": "zqhQqHfbpEJJ",
        "outputId": "15caacaf-753a-40dc-e87a-68c46810de74"
      },
      "source": [
        "train_data.head()"
      ],
      "execution_count": null,
      "outputs": [
        {
          "data": {
            "text/html": [
              "<div>\n",
              "<style scoped>\n",
              "    .dataframe tbody tr th:only-of-type {\n",
              "        vertical-align: middle;\n",
              "    }\n",
              "\n",
              "    .dataframe tbody tr th {\n",
              "        vertical-align: top;\n",
              "    }\n",
              "\n",
              "    .dataframe thead th {\n",
              "        text-align: right;\n",
              "    }\n",
              "</style>\n",
              "<table border=\"1\" class=\"dataframe\">\n",
              "  <thead>\n",
              "    <tr style=\"text-align: right;\">\n",
              "      <th></th>\n",
              "      <th>id</th>\n",
              "      <th>url_legal</th>\n",
              "      <th>license</th>\n",
              "      <th>excerpt</th>\n",
              "      <th>target</th>\n",
              "      <th>standard_error</th>\n",
              "      <th>word_count</th>\n",
              "      <th>excerpt_len</th>\n",
              "      <th>ratio</th>\n",
              "    </tr>\n",
              "  </thead>\n",
              "  <tbody>\n",
              "    <tr>\n",
              "      <th>0</th>\n",
              "      <td>c12129c31</td>\n",
              "      <td>NaN</td>\n",
              "      <td>NaN</td>\n",
              "      <td>When the young people returned to the ballroom...</td>\n",
              "      <td>-0.340259</td>\n",
              "      <td>0.464009</td>\n",
              "      <td>179</td>\n",
              "      <td>992</td>\n",
              "      <td>0.180444</td>\n",
              "    </tr>\n",
              "    <tr>\n",
              "      <th>1</th>\n",
              "      <td>85aa80a4c</td>\n",
              "      <td>NaN</td>\n",
              "      <td>NaN</td>\n",
              "      <td>All through dinner time, Mrs. Fayre was somewh...</td>\n",
              "      <td>-0.315372</td>\n",
              "      <td>0.480805</td>\n",
              "      <td>169</td>\n",
              "      <td>937</td>\n",
              "      <td>0.180363</td>\n",
              "    </tr>\n",
              "    <tr>\n",
              "      <th>2</th>\n",
              "      <td>b69ac6792</td>\n",
              "      <td>NaN</td>\n",
              "      <td>NaN</td>\n",
              "      <td>As Roger had predicted, the snow departed as q...</td>\n",
              "      <td>-0.580118</td>\n",
              "      <td>0.476676</td>\n",
              "      <td>166</td>\n",
              "      <td>908</td>\n",
              "      <td>0.182819</td>\n",
              "    </tr>\n",
              "    <tr>\n",
              "      <th>3</th>\n",
              "      <td>dd1000b26</td>\n",
              "      <td>NaN</td>\n",
              "      <td>NaN</td>\n",
              "      <td>And outside before the palace a great garden w...</td>\n",
              "      <td>-1.054013</td>\n",
              "      <td>0.450007</td>\n",
              "      <td>164</td>\n",
              "      <td>909</td>\n",
              "      <td>0.180418</td>\n",
              "    </tr>\n",
              "    <tr>\n",
              "      <th>4</th>\n",
              "      <td>37c1b32fb</td>\n",
              "      <td>NaN</td>\n",
              "      <td>NaN</td>\n",
              "      <td>Once upon a time there were Three Bears who li...</td>\n",
              "      <td>0.247197</td>\n",
              "      <td>0.510845</td>\n",
              "      <td>147</td>\n",
              "      <td>723</td>\n",
              "      <td>0.203320</td>\n",
              "    </tr>\n",
              "  </tbody>\n",
              "</table>\n",
              "</div>"
            ],
            "text/plain": [
              "          id url_legal license  ... word_count  excerpt_len     ratio\n",
              "0  c12129c31       NaN     NaN  ...        179          992  0.180444\n",
              "1  85aa80a4c       NaN     NaN  ...        169          937  0.180363\n",
              "2  b69ac6792       NaN     NaN  ...        166          908  0.182819\n",
              "3  dd1000b26       NaN     NaN  ...        164          909  0.180418\n",
              "4  37c1b32fb       NaN     NaN  ...        147          723  0.203320\n",
              "\n",
              "[5 rows x 9 columns]"
            ]
          },
          "execution_count": 11,
          "metadata": {},
          "output_type": "execute_result"
        }
      ]
    },
    {
      "cell_type": "code",
      "metadata": {
        "colab": {
          "base_uri": "https://localhost:8080/",
          "height": 297
        },
        "id": "8Ahmd-DopEJL",
        "outputId": "3afe193b-9573-4021-a8c8-10e5efae4bac"
      },
      "source": [
        "train_data = train_data.drop(106)\n",
        "#index_names = train_data[(train_data['standard_error'] > 0.575) ].index\n",
        "#train_data.drop(index_names, inplace = True)\n",
        "train_data.describe()"
      ],
      "execution_count": null,
      "outputs": [
        {
          "data": {
            "text/html": [
              "<div>\n",
              "<style scoped>\n",
              "    .dataframe tbody tr th:only-of-type {\n",
              "        vertical-align: middle;\n",
              "    }\n",
              "\n",
              "    .dataframe tbody tr th {\n",
              "        vertical-align: top;\n",
              "    }\n",
              "\n",
              "    .dataframe thead th {\n",
              "        text-align: right;\n",
              "    }\n",
              "</style>\n",
              "<table border=\"1\" class=\"dataframe\">\n",
              "  <thead>\n",
              "    <tr style=\"text-align: right;\">\n",
              "      <th></th>\n",
              "      <th>target</th>\n",
              "      <th>standard_error</th>\n",
              "      <th>word_count</th>\n",
              "      <th>excerpt_len</th>\n",
              "      <th>ratio</th>\n",
              "    </tr>\n",
              "  </thead>\n",
              "  <tbody>\n",
              "    <tr>\n",
              "      <th>count</th>\n",
              "      <td>2833.000000</td>\n",
              "      <td>2833.000000</td>\n",
              "      <td>2833.000000</td>\n",
              "      <td>2833.000000</td>\n",
              "      <td>2833.000000</td>\n",
              "    </tr>\n",
              "    <tr>\n",
              "      <th>mean</th>\n",
              "      <td>-0.959657</td>\n",
              "      <td>0.491609</td>\n",
              "      <td>172.992940</td>\n",
              "      <td>971.804095</td>\n",
              "      <td>0.178947</td>\n",
              "    </tr>\n",
              "    <tr>\n",
              "      <th>std</th>\n",
              "      <td>1.033604</td>\n",
              "      <td>0.033577</td>\n",
              "      <td>16.967398</td>\n",
              "      <td>117.216975</td>\n",
              "      <td>0.013281</td>\n",
              "    </tr>\n",
              "    <tr>\n",
              "      <th>min</th>\n",
              "      <td>-3.676268</td>\n",
              "      <td>0.428233</td>\n",
              "      <td>135.000000</td>\n",
              "      <td>669.000000</td>\n",
              "      <td>0.123703</td>\n",
              "    </tr>\n",
              "    <tr>\n",
              "      <th>25%</th>\n",
              "      <td>-1.691501</td>\n",
              "      <td>0.468553</td>\n",
              "      <td>159.000000</td>\n",
              "      <td>885.000000</td>\n",
              "      <td>0.170282</td>\n",
              "    </tr>\n",
              "    <tr>\n",
              "      <th>50%</th>\n",
              "      <td>-0.913322</td>\n",
              "      <td>0.484748</td>\n",
              "      <td>175.000000</td>\n",
              "      <td>971.000000</td>\n",
              "      <td>0.179426</td>\n",
              "    </tr>\n",
              "    <tr>\n",
              "      <th>75%</th>\n",
              "      <td>-0.203079</td>\n",
              "      <td>0.506304</td>\n",
              "      <td>188.000000</td>\n",
              "      <td>1058.000000</td>\n",
              "      <td>0.188295</td>\n",
              "    </tr>\n",
              "    <tr>\n",
              "      <th>max</th>\n",
              "      <td>1.711390</td>\n",
              "      <td>0.649671</td>\n",
              "      <td>205.000000</td>\n",
              "      <td>1341.000000</td>\n",
              "      <td>0.235149</td>\n",
              "    </tr>\n",
              "  </tbody>\n",
              "</table>\n",
              "</div>"
            ],
            "text/plain": [
              "            target  standard_error   word_count  excerpt_len        ratio\n",
              "count  2833.000000     2833.000000  2833.000000  2833.000000  2833.000000\n",
              "mean     -0.959657        0.491609   172.992940   971.804095     0.178947\n",
              "std       1.033604        0.033577    16.967398   117.216975     0.013281\n",
              "min      -3.676268        0.428233   135.000000   669.000000     0.123703\n",
              "25%      -1.691501        0.468553   159.000000   885.000000     0.170282\n",
              "50%      -0.913322        0.484748   175.000000   971.000000     0.179426\n",
              "75%      -0.203079        0.506304   188.000000  1058.000000     0.188295\n",
              "max       1.711390        0.649671   205.000000  1341.000000     0.235149"
            ]
          },
          "execution_count": 12,
          "metadata": {},
          "output_type": "execute_result"
        }
      ]
    },
    {
      "cell_type": "code",
      "metadata": {
        "colab": {
          "base_uri": "https://localhost:8080/",
          "height": 258
        },
        "id": "iKT33zxmpEJL",
        "outputId": "3e80b6c7-f274-42dd-d3bb-34804c276d58"
      },
      "source": [
        "plt.figure(figsize=(8,3))\n",
        "sns.distplot(train_data['standard_error'].values)\n",
        "plt.title(\"distribution of standard error\")\n",
        "plt.xlabel(\"standard error\")"
      ],
      "execution_count": null,
      "outputs": [
        {
          "data": {
            "text/plain": [
              "Text(0.5, 0, 'standard error')"
            ]
          },
          "execution_count": 13,
          "metadata": {},
          "output_type": "execute_result"
        },
        {
          "data": {
            "image/png": "[encoded data removed]",
            "text/plain": [
              "<Figure size 576x216 with 1 Axes>"
            ]
          },
          "metadata": {},
          "output_type": "display_data"
        }
      ]
    },
    {
      "cell_type": "code",
      "metadata": {
        "colab": {
          "base_uri": "https://localhost:8080/",
          "height": 241
        },
        "id": "Fky3JwhbpEJL",
        "outputId": "a127f935-aeab-48e1-e600-7dac8ef85870"
      },
      "source": [
        "plt.figure(figsize=(8,3))\n",
        "sns.distplot(train_data['target'].values)\n",
        "plt.title(\"distribution of target feature\")\n",
        "plt.xlabel(\"target\")\n",
        "plt.show()\n"
      ],
      "execution_count": null,
      "outputs": [
        {
          "data": {
            "image/png": "[encoded data removed]",
            "text/plain": [
              "<Figure size 576x216 with 1 Axes>"
            ]
          },
          "metadata": {},
          "output_type": "display_data"
        }
      ]
    },
    {
      "cell_type": "code",
      "metadata": {
        "colab": {
          "base_uri": "https://localhost:8080/",
          "height": 242
        },
        "id": "wTuS_2vcpEJM",
        "outputId": "6a2f0f1f-ac2b-4780-9a86-31f12c42b01f"
      },
      "source": [
        "plt.figure(figsize=(8,3))\n",
        "sns.distplot(train_data['excerpt_len'].values)\n",
        "plt.title(\"distribution of new feature excerpt_len\")\n",
        "plt.xlabel(\"excerpt_len\")\n",
        "plt.show()"
      ],
      "execution_count": null,
      "outputs": [
        {
          "data": {
            "image/png": "[encoded data removed]",
            "text/plain": [
              "<Figure size 576x216 with 1 Axes>"
            ]
          },
          "metadata": {},
          "output_type": "display_data"
        }
      ]
    },
    {
      "cell_type": "code",
      "metadata": {
        "colab": {
          "base_uri": "https://localhost:8080/",
          "height": 242
        },
        "id": "E29yaauZpEJN",
        "outputId": "e4eceb35-35c1-4458-f4f6-96f63832c973"
      },
      "source": [
        "plt.figure(figsize=(8,3))\n",
        "sns.distplot(train_data['word_count'].values)\n",
        "plt.title(\"distribution of new feature word_count\")\n",
        "plt.xlabel(\"Word_count\")\n",
        "plt.show()"
      ],
      "execution_count": null,
      "outputs": [
        {
          "data": {
            "image/png": "[encoded data removed]",
            "text/plain": [
              "<Figure size 576x216 with 1 Axes>"
            ]
          },
          "metadata": {},
          "output_type": "display_data"
        }
      ]
    },
    {
      "cell_type": "code",
      "metadata": {
        "colab": {
          "base_uri": "https://localhost:8080/",
          "height": 242
        },
        "id": "3iuEMtbkpEJO",
        "outputId": "7375aa53-cd07-4a2c-e396-26e0a36fc35c"
      },
      "source": [
        "plt.figure(figsize=(8,3))\n",
        "sns.distplot(train_data['ratio'].values)\n",
        "plt.title(\"distribution of new feature word_count\")\n",
        "plt.xlabel(\"Word_count\")\n",
        "plt.show()"
      ],
      "execution_count": null,
      "outputs": [
        {
          "data": {
            "image/png": "[encoded data removed]",
            "text/plain": [
              "<Figure size 576x216 with 1 Axes>"
            ]
          },
          "metadata": {},
          "output_type": "display_data"
        }
      ]
    },
    {
      "cell_type": "code",
      "metadata": {
        "colab": {
          "base_uri": "https://localhost:8080/",
          "height": 242
        },
        "id": "lTfpKQD0pEJM",
        "outputId": "591bafc4-4dcf-4738-dd27-3ebc59657550"
      },
      "source": [
        "plt.figure(figsize=(8,3))\n",
        "plt.scatter(train_data['excerpt_len'], train_data['standard_error'])\n",
        "plt.title(\"Scatter Plot\")\n",
        "plt.xlabel(\"excerpt_len\")\n",
        "plt.ylabel(\"standard_error\")\n",
        "plt.show()"
      ],
      "execution_count": null,
      "outputs": [
        {
          "data": {
            "image/png": "[encoded data removed]",
            "text/plain": [
              "<Figure size 576x216 with 1 Axes>"
            ]
          },
          "metadata": {},
          "output_type": "display_data"
        }
      ]
    },
    {
      "cell_type": "code",
      "metadata": {
        "colab": {
          "base_uri": "https://localhost:8080/",
          "height": 241
        },
        "id": "FuiA99_hpEJM",
        "outputId": "b9a2c771-5a2a-468a-c304-ecd45ce916e4"
      },
      "source": [
        "plt.figure(figsize=(8,3))\n",
        "plt.scatter(train_data['target'], train_data['excerpt_len'])\n",
        "plt.title(\"Scatter Plot\")\n",
        "plt.xlabel(\"target\")\n",
        "plt.ylabel(\"excerpt_len\")\n",
        "plt.show()"
      ],
      "execution_count": null,
      "outputs": [
        {
          "data": {
            "image/png": "[encoded data removed]",
            "text/plain": [
              "<Figure size 576x216 with 1 Axes>"
            ]
          },
          "metadata": {},
          "output_type": "display_data"
        }
      ]
    },
    {
      "cell_type": "code",
      "metadata": {
        "colab": {
          "base_uri": "https://localhost:8080/",
          "height": 241
        },
        "id": "xSCyQAXppEJN",
        "outputId": "f1e28544-d319-4804-ed4d-5566578b5454"
      },
      "source": [
        "plt.figure(figsize=(8,3))\n",
        "plt.scatter(train_data['target'], train_data['word_count'])\n",
        "plt.title(\"Scatter Plot\")\n",
        "plt.xlabel(\"target\")\n",
        "plt.ylabel(\"word_count\")\n",
        "plt.show()"
      ],
      "execution_count": null,
      "outputs": [
        {
          "data": {
            "image/png": "[encoded data removed]",
            "text/plain": [
              "<Figure size 576x216 with 1 Axes>"
            ]
          },
          "metadata": {},
          "output_type": "display_data"
        }
      ]
    },
    {
      "cell_type": "code",
      "metadata": {
        "colab": {
          "base_uri": "https://localhost:8080/",
          "height": 241
        },
        "id": "G10kHZBBpEJO",
        "outputId": "71c085e7-8f5e-418d-896c-542e85a6d78b"
      },
      "source": [
        "plt.figure(figsize=(8,3))\n",
        "plt.scatter(train_data['target'], train_data['ratio'])\n",
        "plt.title(\"Scatter Plot\")\n",
        "plt.xlabel(\"target\")\n",
        "plt.ylabel(\"ratio\")\n",
        "plt.show()"
      ],
      "execution_count": null,
      "outputs": [
        {
          "data": {
            "image/png": "[encoded data removed]",
            "text/plain": [
              "<Figure size 576x216 with 1 Axes>"
            ]
          },
          "metadata": {},
          "output_type": "display_data"
        }
      ]
    },
    {
      "cell_type": "markdown",
      "metadata": {
        "id": "VqUKEnRIpEJP"
      },
      "source": [
        "## Data preprocessing"
      ]
    },
    {
      "cell_type": "markdown",
      "metadata": {
        "id": "z7kkXYlspEJP"
      },
      "source": [
        "**Text Processing (NLP)**"
      ]
    },
    {
      "cell_type": "code",
      "metadata": {
        "colab": {
          "base_uri": "https://localhost:8080/"
        },
        "id": "TV8sKdM3pEJQ",
        "outputId": "2689a40c-f2bf-4c06-bb0a-87b4e5d5e98c"
      },
      "source": [
        "sent_0 = train_data['excerpt'].values[1]\n",
        "print(sent_0)\n",
        "print(\"=\"*50)"
      ],
      "execution_count": null,
      "outputs": [
        {
          "name": "stdout",
          "output_type": "stream",
          "text": [
            "All through dinner time, Mrs. Fayre was somewhat silent, her eyes resting on Dolly with a wistful, uncertain expression. She wanted to give the child the pleasure she craved, but she had hard work to bring herself to the point of overcoming her own objections.\n",
            "At last, however, when the meal was nearly over, she smiled at her little daughter, and said, \"All right, Dolly, you may go.\"\n",
            "\"Oh, mother!\" Dolly cried, overwhelmed with sudden delight. \"Really?\n",
            "Oh, I am so glad! Are you sure you're willing?\"\n",
            "\"I've persuaded myself to be willing, against my will,\" returned Mrs. Fayre, whimsically. \"I confess I just hate to have you go, but I can't bear to deprive you of the pleasure trip. And, as you say, it would also keep Dotty at home, and so, altogether, I think I shall have to give in.\"\n",
            "\"Oh, you angel mother! You blessed lady! How good you are!\" And Dolly flew around the table and gave her mother a hug that nearly suffocated her.\n",
            "==================================================\n"
          ]
        }
      ]
    },
    {
      "cell_type": "code",
      "metadata": {
        "colab": {
          "base_uri": "https://localhost:8080/"
        },
        "id": "t5zestFApEJQ",
        "outputId": "fb22984a-7621-4cb6-c708-d046a273d081"
      },
      "source": [
        "# remove urls:\n",
        "text = \"I am going to home 34 $,<a />https://www.kaggle.com/gangwaradesh/commonlit-readability/edit<a /><a />is't necessary at home3452\"\n",
        "print(\"Before: \",text)\n",
        "text = re.sub(r\"http\\S+\",\"\", text)\n",
        "print(\"After: \",text)"
      ],
      "execution_count": null,
      "outputs": [
        {
          "name": "stdout",
          "output_type": "stream",
          "text": [
            "Before:  I am going to home 34 $,<a />https://www.kaggle.com/gangwaradesh/commonlit-readability/edit<a /><a />is't necessary at home3452\n",
            "After:  I am going to home 34 $,<a /> /><a />is't necessary at home3452\n"
          ]
        }
      ]
    },
    {
      "cell_type": "code",
      "metadata": {
        "id": "G1FaW7eYpEJQ"
      },
      "source": [
        "# removing all html tags\n",
        "def remove_tags(text):\n",
        "    TAG_RE = re.compile(r'<[^>]+>')\n",
        "    return TAG_RE.sub('', text)"
      ],
      "execution_count": null,
      "outputs": []
    },
    {
      "cell_type": "code",
      "metadata": {
        "colab": {
          "base_uri": "https://localhost:8080/"
        },
        "id": "Tk0f5gxLpEJR",
        "outputId": "5e8fc863-0dc9-465c-bdb8-71897d73cfe8"
      },
      "source": [
        "print(\"Before: \",text)\n",
        "text = remove_tags(text)\n",
        "print(\"After: \",text)"
      ],
      "execution_count": null,
      "outputs": [
        {
          "name": "stdout",
          "output_type": "stream",
          "text": [
            "Before:  I am going to home 34 $,<a /> /><a />is't necessary at home3452\n",
            "After:  I am going to home 34 $, />is't necessary at home3452\n"
          ]
        }
      ]
    },
    {
      "cell_type": "code",
      "metadata": {
        "id": "8PAdWtVZpEJR"
      },
      "source": [
        "#https://stackoverflow.com/questions/19790188/expanding-english-language-contractions-in-python/47091490#47091490\n",
        "def decontracted(phrase):\n",
        "    # specific\n",
        "    phrase = re.sub(r\"won't\", \"will not\", phrase)\n",
        "    phrase = re.sub(r\"can\\'t\", \"can not\", phrase)\n",
        "\n",
        "    # general\n",
        "    phrase = re.sub(r\"n\\'t\", \" not\", phrase)\n",
        "    phrase = re.sub(r\"\\'re\", \" are\", phrase)\n",
        "    phrase = re.sub(r\"\\'s\", \" is\", phrase)\n",
        "    phrase = re.sub(r\"\\'d\", \" would\", phrase)\n",
        "    phrase = re.sub(r\"\\'ll\", \" will\", phrase)\n",
        "    phrase = re.sub(r\"\\'t\", \" not\", phrase)\n",
        "    phrase = re.sub(r\"\\'ve\", \" have\", phrase)\n",
        "    phrase = re.sub(r\"\\'m\", \" am\", phrase)\n",
        "    return phrase"
      ],
      "execution_count": null,
      "outputs": []
    },
    {
      "cell_type": "code",
      "metadata": {
        "colab": {
          "base_uri": "https://localhost:8080/"
        },
        "id": "K3kmv60fpEJS",
        "outputId": "18e6c740-2b74-4494-e98a-1acdb53cc053"
      },
      "source": [
        "print(\"Before: \",text)\n",
        "text = decontracted(text)\n",
        "print(\"After: \",text)"
      ],
      "execution_count": null,
      "outputs": [
        {
          "name": "stdout",
          "output_type": "stream",
          "text": [
            "Before:  I am going to home 34 $, />is't necessary at home3452\n",
            "After:  I am going to home 34 $, />is not necessary at home3452\n"
          ]
        }
      ]
    },
    {
      "cell_type": "code",
      "metadata": {
        "colab": {
          "base_uri": "https://localhost:8080/"
        },
        "id": "7zvqyqjTpEJS",
        "outputId": "b0d6823a-114c-4e32-cc82-ca672bf797a9"
      },
      "source": [
        "#remove words with numbers, example: dsesf233,252gsafs, 45, 3633\n",
        "\n",
        "#https://stackoverflow.com/questions/18082130/python-regex-to-remove-all-words-which-contains-number/18082370#18082370\n",
        "print(\"Before: \",text)\n",
        "text = re.sub(\"\\S*\\d\\S*\", \"\", text).strip()\n",
        "print(\"After: \",text)"
      ],
      "execution_count": null,
      "outputs": [
        {
          "name": "stdout",
          "output_type": "stream",
          "text": [
            "Before:  I am going to home 34 $, />is not necessary at home3452\n",
            "After:  I am going to home  $, />is not necessary at\n"
          ]
        }
      ]
    },
    {
      "cell_type": "code",
      "metadata": {
        "colab": {
          "base_uri": "https://localhost:8080/"
        },
        "id": "GyRJZ2U6pEJS",
        "outputId": "8e91c53b-88b0-4f59-9682-84b222c08c05"
      },
      "source": [
        "# Remove special character\n",
        "print(\"Before: \",text)\n",
        "text = re.sub('[^A-Za-z]+', ' ', text)\n",
        "print(\"After: \",text)"
      ],
      "execution_count": null,
      "outputs": [
        {
          "name": "stdout",
          "output_type": "stream",
          "text": [
            "Before:  I am going to home  $, />is not necessary at\n",
            "After:  I am going to home is not necessary at\n"
          ]
        }
      ]
    },
    {
      "cell_type": "markdown",
      "metadata": {
        "id": "g1-G2oZQpEJT"
      },
      "source": [
        "**Remove stop words**"
      ]
    },
    {
      "cell_type": "code",
      "metadata": {
        "colab": {
          "base_uri": "https://localhost:8080/"
        },
        "id": "xN213zJGpEJT",
        "outputId": "29b9b79e-a5a5-4bde-e0a6-71c6844c880e"
      },
      "source": [
        "nltk.download('stopwords')\n",
        "stop_words = set(stopwords.words('english'))"
      ],
      "execution_count": null,
      "outputs": [
        {
          "name": "stdout",
          "output_type": "stream",
          "text": [
            "[nltk_data] Downloading package stopwords to /root/nltk_data...\n",
            "[nltk_data]   Unzipping corpora/stopwords.zip.\n"
          ]
        }
      ]
    },
    {
      "cell_type": "code",
      "metadata": {
        "colab": {
          "base_uri": "https://localhost:8080/"
        },
        "id": "rmi2B1sru7ff",
        "outputId": "0de4ca40-868b-4eed-e090-6ae4913f1de5"
      },
      "source": [
        "print(stop_words)"
      ],
      "execution_count": null,
      "outputs": [
        {
          "name": "stdout",
          "output_type": "stream",
          "text": [
            "{'he', 'below', 'herself', 'these', \"doesn't\", 'other', 'of', 'mustn', \"you'd\", 'yourself', 'who', 'again', 'the', 'yourselves', 'does', 'what', \"you're\", 'up', 'can', 'each', \"hasn't\", \"don't\", 'needn', 'an', 'but', 'between', 'himself', 'hadn', 'yours', 'more', 'you', 'won', 'nor', 'are', 's', 'because', 'being', 'into', 'll', 'before', 'themselves', 'wouldn', 'both', 'do', 'have', 'now', 'not', 'wasn', 'than', \"you'll\", 'their', 'any', 'couldn', 'shouldn', 'very', \"isn't\", 'then', 'when', 'those', 'as', 'such', 'itself', 'further', 'over', 'where', 'most', 'weren', 'and', 'above', 'had', 'having', 'me', 'i', 'same', 'them', 'o', \"that'll\", \"wasn't\", 'there', \"shouldn't\", 'or', 'isn', \"it's\", 't', 'just', 'hers', 'through', 'no', 'didn', 'mightn', 're', 'my', 'with', 'this', 'some', 'our', 'doing', 'm', 'y', 'ain', 'ma', 'him', 'which', 'until', 'too', 'will', 'were', \"should've\", \"wouldn't\", \"didn't\", 'was', 'on', \"haven't\", \"mustn't\", 'aren', 'against', \"aren't\", 'haven', \"you've\", 'been', 'off', 'only', \"weren't\", 'if', 'down', 'your', 'ourselves', \"she's\", 'is', 'should', \"mightn't\", 'to', 'so', 'theirs', 'by', 'doesn', \"shan't\", \"needn't\", 'at', 'own', 'we', 'be', 've', \"couldn't\", 'did', 'after', 'out', \"won't\", 'ours', 'for', 'why', 'that', 'all', 'whom', 'has', 'few', 'how', 'here', 'during', 'about', 'its', 'her', 'while', 'under', 'from', 'd', 'they', 'his', 'once', 'she', 'don', 'it', 'shan', 'a', 'hasn', 'in', \"hadn't\", 'myself', 'am'}\n"
          ]
        }
      ]
    },
    {
      "cell_type": "code",
      "metadata": {
        "id": "aQOgBMMepEJU"
      },
      "source": [
        "#https://www.geeksforgeeks.org/removing-stop-words-nltk-python/\n",
        "text = text.lower()\n",
        "def remove_stopwords(text):\n",
        "    \n",
        "    stop_words = set(stopwords.words('english'))\n",
        "    clean_text = ''\n",
        "    for w in text.split():\n",
        "        if w not in stop_words:\n",
        "            clean_text = clean_text + \" \" + w\n",
        "    return clean_text.strip()"
      ],
      "execution_count": null,
      "outputs": []
    },
    {
      "cell_type": "code",
      "metadata": {
        "colab": {
          "base_uri": "https://localhost:8080/"
        },
        "id": "31oy5jXFpEJU",
        "outputId": "e8080665-0a7e-4b5d-f198-de209fba2fbc"
      },
      "source": [
        "print(\"Before: \",text)\n",
        "text = remove_stopwords(text)\n",
        "print(\"After: \",text)"
      ],
      "execution_count": null,
      "outputs": [
        {
          "name": "stdout",
          "output_type": "stream",
          "text": [
            "Before:  i am going to home is not necessary at\n",
            "After:  going home necessary\n"
          ]
        }
      ]
    },
    {
      "cell_type": "markdown",
      "metadata": {
        "id": "ru44YIcDpEJU"
      },
      "source": [
        "**Stemming**"
      ]
    },
    {
      "cell_type": "code",
      "metadata": {
        "colab": {
          "base_uri": "https://localhost:8080/"
        },
        "id": "U6wPhdLWpEJV",
        "outputId": "4192278d-b2e6-4bc1-d260-e44fef0593cd"
      },
      "source": [
        "#https://www.geeksforgeeks.org/python-stemming-words-with-nltk/\n",
        "nltk.download('punkt')\n",
        "def text_stemming(text):\n",
        "    sbs = SnowballStemmer(language='english')\n",
        "    words = word_tokenize(text)\n",
        "    new_text = ''\n",
        "    for w in words:\n",
        "        new_text = new_text + \" \" + sbs.stem(w)\n",
        "    return new_text.strip()"
      ],
      "execution_count": null,
      "outputs": [
        {
          "name": "stdout",
          "output_type": "stream",
          "text": [
            "[nltk_data] Downloading package punkt to /root/nltk_data...\n",
            "[nltk_data]   Unzipping tokenizers/punkt.zip.\n"
          ]
        }
      ]
    },
    {
      "cell_type": "code",
      "metadata": {
        "colab": {
          "base_uri": "https://localhost:8080/"
        },
        "id": "IEgMpol9pEJV",
        "outputId": "c5d6e0e7-8c91-4026-9956-59361efee5b2"
      },
      "source": [
        "print(\"Before: \",text)\n",
        "text = text_stemming(text)\n",
        "print(\"After: \",text)"
      ],
      "execution_count": null,
      "outputs": [
        {
          "name": "stdout",
          "output_type": "stream",
          "text": [
            "Before:  going home necessary\n",
            "After:  go home necessari\n"
          ]
        }
      ]
    },
    {
      "cell_type": "code",
      "metadata": {
        "id": "nmPBK7AfpEJV"
      },
      "source": [
        "def text_process(text):\n",
        "    text = re.sub(r\"http\\S+\",\"\", text)\n",
        "    text = remove_tags(text)\n",
        "    text = decontracted(text)\n",
        "    text = re.sub(\"\\S*\\d\\S*\", \"\", text).strip()\n",
        "    text = re.sub('[^A-Za-z]+', ' ', text)\n",
        "    text = text.lower()\n",
        "    return text"
      ],
      "execution_count": null,
      "outputs": []
    },
    {
      "cell_type": "code",
      "metadata": {
        "colab": {
          "base_uri": "https://localhost:8080/"
        },
        "id": "bHhzfo8jpEJV",
        "outputId": "32095215-302e-474a-f9aa-05f93eb1654b"
      },
      "source": [
        "text = \"I am going to home 34 $,<a />https://www.kaggle.com/gangwaradesh/commonlit-readability/edit<a /><a />is't necessary at home3452\"\n",
        "print(\"Before: \",text)\n",
        "text = text_process(text)\n",
        "text = remove_stopwords(text)\n",
        "text = text_stemming(text)\n",
        "print(\"After:\",text)"
      ],
      "execution_count": null,
      "outputs": [
        {
          "name": "stdout",
          "output_type": "stream",
          "text": [
            "Before:  I am going to home 34 $,<a />https://www.kaggle.com/gangwaradesh/commonlit-readability/edit<a /><a />is't necessary at home3452\n",
            "After: go home necessari\n"
          ]
        }
      ]
    },
    {
      "cell_type": "code",
      "metadata": {
        "colab": {
          "base_uri": "https://localhost:8080/",
          "height": 289
        },
        "id": "nHw1ykhppEJV",
        "outputId": "4ef4b2d2-bcc0-4e32-fac4-f2a3e5785f99"
      },
      "source": [
        "train_data[\"process_excerpt\"] = train_data[\"excerpt\"].apply(lambda x: text_process(x))\n",
        "test_data[\"process_excerpt\"] = test_data[\"excerpt\"].apply(lambda x: text_process(x))\n",
        "train_data.head()"
      ],
      "execution_count": null,
      "outputs": [
        {
          "data": {
            "text/html": [
              "<div>\n",
              "<style scoped>\n",
              "    .dataframe tbody tr th:only-of-type {\n",
              "        vertical-align: middle;\n",
              "    }\n",
              "\n",
              "    .dataframe tbody tr th {\n",
              "        vertical-align: top;\n",
              "    }\n",
              "\n",
              "    .dataframe thead th {\n",
              "        text-align: right;\n",
              "    }\n",
              "</style>\n",
              "<table border=\"1\" class=\"dataframe\">\n",
              "  <thead>\n",
              "    <tr style=\"text-align: right;\">\n",
              "      <th></th>\n",
              "      <th>id</th>\n",
              "      <th>url_legal</th>\n",
              "      <th>license</th>\n",
              "      <th>excerpt</th>\n",
              "      <th>target</th>\n",
              "      <th>standard_error</th>\n",
              "      <th>word_count</th>\n",
              "      <th>excerpt_len</th>\n",
              "      <th>ratio</th>\n",
              "      <th>process_excerpt</th>\n",
              "    </tr>\n",
              "  </thead>\n",
              "  <tbody>\n",
              "    <tr>\n",
              "      <th>0</th>\n",
              "      <td>c12129c31</td>\n",
              "      <td>NaN</td>\n",
              "      <td>NaN</td>\n",
              "      <td>When the young people returned to the ballroom...</td>\n",
              "      <td>-0.340259</td>\n",
              "      <td>0.464009</td>\n",
              "      <td>179</td>\n",
              "      <td>992</td>\n",
              "      <td>0.180444</td>\n",
              "      <td>when the young people returned to the ballroom...</td>\n",
              "    </tr>\n",
              "    <tr>\n",
              "      <th>1</th>\n",
              "      <td>85aa80a4c</td>\n",
              "      <td>NaN</td>\n",
              "      <td>NaN</td>\n",
              "      <td>All through dinner time, Mrs. Fayre was somewh...</td>\n",
              "      <td>-0.315372</td>\n",
              "      <td>0.480805</td>\n",
              "      <td>169</td>\n",
              "      <td>937</td>\n",
              "      <td>0.180363</td>\n",
              "      <td>all through dinner time mrs fayre was somewhat...</td>\n",
              "    </tr>\n",
              "    <tr>\n",
              "      <th>2</th>\n",
              "      <td>b69ac6792</td>\n",
              "      <td>NaN</td>\n",
              "      <td>NaN</td>\n",
              "      <td>As Roger had predicted, the snow departed as q...</td>\n",
              "      <td>-0.580118</td>\n",
              "      <td>0.476676</td>\n",
              "      <td>166</td>\n",
              "      <td>908</td>\n",
              "      <td>0.182819</td>\n",
              "      <td>as roger had predicted the snow departed as qu...</td>\n",
              "    </tr>\n",
              "    <tr>\n",
              "      <th>3</th>\n",
              "      <td>dd1000b26</td>\n",
              "      <td>NaN</td>\n",
              "      <td>NaN</td>\n",
              "      <td>And outside before the palace a great garden w...</td>\n",
              "      <td>-1.054013</td>\n",
              "      <td>0.450007</td>\n",
              "      <td>164</td>\n",
              "      <td>909</td>\n",
              "      <td>0.180418</td>\n",
              "      <td>and outside before the palace a great garden w...</td>\n",
              "    </tr>\n",
              "    <tr>\n",
              "      <th>4</th>\n",
              "      <td>37c1b32fb</td>\n",
              "      <td>NaN</td>\n",
              "      <td>NaN</td>\n",
              "      <td>Once upon a time there were Three Bears who li...</td>\n",
              "      <td>0.247197</td>\n",
              "      <td>0.510845</td>\n",
              "      <td>147</td>\n",
              "      <td>723</td>\n",
              "      <td>0.203320</td>\n",
              "      <td>once upon a time there were three bears who li...</td>\n",
              "    </tr>\n",
              "  </tbody>\n",
              "</table>\n",
              "</div>"
            ],
            "text/plain": [
              "          id  ...                                    process_excerpt\n",
              "0  c12129c31  ...  when the young people returned to the ballroom...\n",
              "1  85aa80a4c  ...  all through dinner time mrs fayre was somewhat...\n",
              "2  b69ac6792  ...  as roger had predicted the snow departed as qu...\n",
              "3  dd1000b26  ...  and outside before the palace a great garden w...\n",
              "4  37c1b32fb  ...  once upon a time there were three bears who li...\n",
              "\n",
              "[5 rows x 10 columns]"
            ]
          },
          "execution_count": 38,
          "metadata": {},
          "output_type": "execute_result"
        }
      ]
    },
    {
      "cell_type": "markdown",
      "metadata": {
        "id": "Wjx2RemKpEJW"
      },
      "source": [
        "**TWC:** token word count in excerpt\n",
        "\n",
        "**PWC:** word count after processing in excerpt\n",
        "\n",
        "**SWC:** stop words count in excerpt"
      ]
    },
    {
      "cell_type": "code",
      "metadata": {
        "id": "RphDQKuBpEJW"
      },
      "source": [
        "train_data[\"TWC\"] = train_data[\"process_excerpt\"].apply(lambda x: word_count(x))\n",
        "test_data[\"TWC\"] = test_data[\"process_excerpt\"].apply(lambda x: word_count(x))"
      ],
      "execution_count": null,
      "outputs": []
    },
    {
      "cell_type": "code",
      "metadata": {
        "id": "kVhnXMESpEJW"
      },
      "source": [
        "train_data[\"process_excerpt\"] = train_data[\"process_excerpt\"].apply(lambda x: remove_stopwords(x))\n",
        "test_data[\"process_excerpt\"] = test_data[\"process_excerpt\"].apply(lambda x: remove_stopwords(x))\n",
        "train_data[\"process_excerpt\"] = train_data[\"process_excerpt\"].apply(lambda x: text_stemming(x))\n",
        "test_data[\"process_excerpt\"] = test_data[\"process_excerpt\"].apply(lambda x: text_stemming(x))\n",
        "train_data.head()"
      ],
      "execution_count": null,
      "outputs": []
    },
    {
      "cell_type": "code",
      "metadata": {
        "colab": {
          "base_uri": "https://localhost:8080/"
        },
        "id": "6esw6kiApEJW",
        "outputId": "84cc2dc5-e541-4fe5-caf4-7f19ff36f649"
      },
      "source": [
        "text_0 = train_data['excerpt'].values[0]\n",
        "print(\"Raw text:\\n\")\n",
        "print(text_0)\n",
        "print(\"=\"*100)\n",
        "\n",
        "print(\"Process text:\\n\")\n",
        "text_0 = train_data['process_excerpt'].values[0]\n",
        "print(text_0)\n",
        "print(\"=\"*100)"
      ],
      "execution_count": null,
      "outputs": [
        {
          "name": "stdout",
          "output_type": "stream",
          "text": [
            "Raw text:\n",
            "\n",
            "When the young people returned to the ballroom, it presented a decidedly changed appearance. Instead of an interior scene, it was a winter landscape.\n",
            "The floor was covered with snow-white canvas, not laid on smoothly, but rumpled over bumps and hillocks, like a real snow field. The numerous palms and evergreens that had decorated the room, were powdered with flour and strewn with tufts of cotton, like snow. Also diamond dust had been lightly sprinkled on them, and glittering crystal icicles hung from the branches.\n",
            "At each end of the room, on the wall, hung a beautiful bear-skin rug.\n",
            "These rugs were for prizes, one for the girls and one for the boys. And this was the game.\n",
            "The girls were gathered at one end of the room and the boys at the other, and one end was called the North Pole, and the other the South Pole. Each player was given a small flag which they were to plant on reaching the Pole.\n",
            "This would have been an easy matter, but each traveller was obliged to wear snowshoes.\n",
            "====================================================================================================\n",
            "Process text:\n",
            "\n",
            "young peopl return ballroom present decid chang appear instead interior scene winter landscap floor cover snow white canva laid smooth rumpl bump hillock like real snow field numer palm evergreen decor room powder flour strewn tuft cotton like snow also diamond dust light sprinkl glitter crystal icicl hung branch end room wall hung beauti bear skin rug rug prize one girl one boy game girl gather one end room boy one end call north pole south pole player given small flag plant reach pole would easi matter travel oblig wear snowsho\n",
            "====================================================================================================\n"
          ]
        }
      ]
    },
    {
      "cell_type": "code",
      "metadata": {
        "colab": {
          "base_uri": "https://localhost:8080/",
          "height": 287
        },
        "id": "CNphKcgVpEJW",
        "outputId": "03df0cb4-5d20-4efe-f84f-69886b801aca"
      },
      "source": [
        "train_data[\"PWC\"] = train_data[\"process_excerpt\"].apply(lambda x: word_count(x))\n",
        "test_data[\"PWC\"] = test_data[\"process_excerpt\"].apply(lambda x: word_count(x))\n",
        "train_data[\"SWC\"] = train_data[\"TWC\"] - train_data[\"PWC\"]\n",
        "test_data[\"SWC\"] = test_data[\"TWC\"] - test_data[\"PWC\"]\n",
        "train_data.head()"
      ],
      "execution_count": null,
      "outputs": [
        {
          "data": {
            "text/html": [
              "<div>\n",
              "<style scoped>\n",
              "    .dataframe tbody tr th:only-of-type {\n",
              "        vertical-align: middle;\n",
              "    }\n",
              "\n",
              "    .dataframe tbody tr th {\n",
              "        vertical-align: top;\n",
              "    }\n",
              "\n",
              "    .dataframe thead th {\n",
              "        text-align: right;\n",
              "    }\n",
              "</style>\n",
              "<table border=\"1\" class=\"dataframe\">\n",
              "  <thead>\n",
              "    <tr style=\"text-align: right;\">\n",
              "      <th></th>\n",
              "      <th>id</th>\n",
              "      <th>url_legal</th>\n",
              "      <th>license</th>\n",
              "      <th>excerpt</th>\n",
              "      <th>target</th>\n",
              "      <th>standard_error</th>\n",
              "      <th>word_count</th>\n",
              "      <th>excerpt_len</th>\n",
              "      <th>ratio</th>\n",
              "      <th>process_excerpt</th>\n",
              "      <th>TWC</th>\n",
              "      <th>PWC</th>\n",
              "      <th>SWC</th>\n",
              "    </tr>\n",
              "  </thead>\n",
              "  <tbody>\n",
              "    <tr>\n",
              "      <th>0</th>\n",
              "      <td>c12129c31</td>\n",
              "      <td>NaN</td>\n",
              "      <td>NaN</td>\n",
              "      <td>When the young people returned to the ballroom...</td>\n",
              "      <td>-0.340259</td>\n",
              "      <td>0.464009</td>\n",
              "      <td>179</td>\n",
              "      <td>992</td>\n",
              "      <td>0.180444</td>\n",
              "      <td>young peopl return ballroom present decid chan...</td>\n",
              "      <td>181</td>\n",
              "      <td>91</td>\n",
              "      <td>90</td>\n",
              "    </tr>\n",
              "    <tr>\n",
              "      <th>1</th>\n",
              "      <td>85aa80a4c</td>\n",
              "      <td>NaN</td>\n",
              "      <td>NaN</td>\n",
              "      <td>All through dinner time, Mrs. Fayre was somewh...</td>\n",
              "      <td>-0.315372</td>\n",
              "      <td>0.480805</td>\n",
              "      <td>169</td>\n",
              "      <td>937</td>\n",
              "      <td>0.180363</td>\n",
              "      <td>dinner time mrs fayr somewhat silent eye rest ...</td>\n",
              "      <td>172</td>\n",
              "      <td>85</td>\n",
              "      <td>87</td>\n",
              "    </tr>\n",
              "    <tr>\n",
              "      <th>2</th>\n",
              "      <td>b69ac6792</td>\n",
              "      <td>NaN</td>\n",
              "      <td>NaN</td>\n",
              "      <td>As Roger had predicted, the snow departed as q...</td>\n",
              "      <td>-0.580118</td>\n",
              "      <td>0.476676</td>\n",
              "      <td>166</td>\n",
              "      <td>908</td>\n",
              "      <td>0.182819</td>\n",
              "      <td>roger predict snow depart quick came two day s...</td>\n",
              "      <td>172</td>\n",
              "      <td>84</td>\n",
              "      <td>88</td>\n",
              "    </tr>\n",
              "    <tr>\n",
              "      <th>3</th>\n",
              "      <td>dd1000b26</td>\n",
              "      <td>NaN</td>\n",
              "      <td>NaN</td>\n",
              "      <td>And outside before the palace a great garden w...</td>\n",
              "      <td>-1.054013</td>\n",
              "      <td>0.450007</td>\n",
              "      <td>164</td>\n",
              "      <td>909</td>\n",
              "      <td>0.180418</td>\n",
              "      <td>outsid palac great garden wall round fill full...</td>\n",
              "      <td>167</td>\n",
              "      <td>94</td>\n",
              "      <td>73</td>\n",
              "    </tr>\n",
              "    <tr>\n",
              "      <th>4</th>\n",
              "      <td>37c1b32fb</td>\n",
              "      <td>NaN</td>\n",
              "      <td>NaN</td>\n",
              "      <td>Once upon a time there were Three Bears who li...</td>\n",
              "      <td>0.247197</td>\n",
              "      <td>0.510845</td>\n",
              "      <td>147</td>\n",
              "      <td>723</td>\n",
              "      <td>0.203320</td>\n",
              "      <td>upon time three bear live togeth hous wood one...</td>\n",
              "      <td>151</td>\n",
              "      <td>74</td>\n",
              "      <td>77</td>\n",
              "    </tr>\n",
              "  </tbody>\n",
              "</table>\n",
              "</div>"
            ],
            "text/plain": [
              "          id url_legal license  ...  TWC  PWC  SWC\n",
              "0  c12129c31       NaN     NaN  ...  181   91   90\n",
              "1  85aa80a4c       NaN     NaN  ...  172   85   87\n",
              "2  b69ac6792       NaN     NaN  ...  172   84   88\n",
              "3  dd1000b26       NaN     NaN  ...  167   94   73\n",
              "4  37c1b32fb       NaN     NaN  ...  151   74   77\n",
              "\n",
              "[5 rows x 13 columns]"
            ]
          },
          "execution_count": 39,
          "metadata": {},
          "output_type": "execute_result"
        }
      ]
    },
    {
      "cell_type": "code",
      "metadata": {
        "id": "eIN3soA9pEJX"
      },
      "source": [
        "train_data['TW_PW_ratio'] = np.divide(train_data['TWC'],train_data['PWC'])\n",
        "test_data['TW_PW_ratio'] = np.divide(test_data['TWC'],test_data['PWC'])"
      ],
      "execution_count": null,
      "outputs": []
    },
    {
      "cell_type": "markdown",
      "metadata": {
        "id": "JhzFZEmopEJX"
      },
      "source": [
        "## Train, CV and Test split"
      ]
    },
    {
      "cell_type": "code",
      "metadata": {
        "colab": {
          "base_uri": "https://localhost:8080/",
          "height": 144
        },
        "id": "npfHz70OpEJX",
        "outputId": "3e88079d-6dc0-4526-adb9-f8a376534399"
      },
      "source": [
        "y = train_data['target'].values\n",
        "X = train_data.drop(['target'], axis=1)\n",
        "X.head(2)"
      ],
      "execution_count": null,
      "outputs": [
        {
          "data": {
            "text/html": [
              "<div>\n",
              "<style scoped>\n",
              "    .dataframe tbody tr th:only-of-type {\n",
              "        vertical-align: middle;\n",
              "    }\n",
              "\n",
              "    .dataframe tbody tr th {\n",
              "        vertical-align: top;\n",
              "    }\n",
              "\n",
              "    .dataframe thead th {\n",
              "        text-align: right;\n",
              "    }\n",
              "</style>\n",
              "<table border=\"1\" class=\"dataframe\">\n",
              "  <thead>\n",
              "    <tr style=\"text-align: right;\">\n",
              "      <th></th>\n",
              "      <th>id</th>\n",
              "      <th>url_legal</th>\n",
              "      <th>license</th>\n",
              "      <th>excerpt</th>\n",
              "      <th>standard_error</th>\n",
              "      <th>word_count</th>\n",
              "      <th>excerpt_len</th>\n",
              "      <th>ratio</th>\n",
              "      <th>process_excerpt</th>\n",
              "      <th>TWC</th>\n",
              "      <th>PWC</th>\n",
              "      <th>SWC</th>\n",
              "      <th>TW_PW_ratio</th>\n",
              "    </tr>\n",
              "  </thead>\n",
              "  <tbody>\n",
              "    <tr>\n",
              "      <th>0</th>\n",
              "      <td>c12129c31</td>\n",
              "      <td>NaN</td>\n",
              "      <td>NaN</td>\n",
              "      <td>When the young people returned to the ballroom...</td>\n",
              "      <td>0.464009</td>\n",
              "      <td>179</td>\n",
              "      <td>992</td>\n",
              "      <td>0.180444</td>\n",
              "      <td>young peopl return ballroom present decid chan...</td>\n",
              "      <td>181</td>\n",
              "      <td>91</td>\n",
              "      <td>90</td>\n",
              "      <td>1.989011</td>\n",
              "    </tr>\n",
              "    <tr>\n",
              "      <th>1</th>\n",
              "      <td>85aa80a4c</td>\n",
              "      <td>NaN</td>\n",
              "      <td>NaN</td>\n",
              "      <td>All through dinner time, Mrs. Fayre was somewh...</td>\n",
              "      <td>0.480805</td>\n",
              "      <td>169</td>\n",
              "      <td>937</td>\n",
              "      <td>0.180363</td>\n",
              "      <td>dinner time mrs fayr somewhat silent eye rest ...</td>\n",
              "      <td>172</td>\n",
              "      <td>85</td>\n",
              "      <td>87</td>\n",
              "      <td>2.023529</td>\n",
              "    </tr>\n",
              "  </tbody>\n",
              "</table>\n",
              "</div>"
            ],
            "text/plain": [
              "          id url_legal license  ... PWC  SWC  TW_PW_ratio\n",
              "0  c12129c31       NaN     NaN  ...  91   90     1.989011\n",
              "1  85aa80a4c       NaN     NaN  ...  85   87     2.023529\n",
              "\n",
              "[2 rows x 13 columns]"
            ]
          },
          "execution_count": 41,
          "metadata": {},
          "output_type": "execute_result"
        }
      ]
    },
    {
      "cell_type": "code",
      "metadata": {
        "colab": {
          "background_save": true
        },
        "id": "RqtXIA6RpEJY"
      },
      "source": [
        "# train test split\n",
        "from sklearn.model_selection import train_test_split\n",
        "X_train, X_test, y_train, y_test = train_test_split(X, y, test_size=0.10, random_state = 0)\n",
        "X_train, X_cv, y_train, y_cv = train_test_split(X_train, y_train, test_size=0.10, random_state = 0)"
      ],
      "execution_count": null,
      "outputs": []
    },
    {
      "cell_type": "markdown",
      "metadata": {
        "id": "TLqc8osIpEJY"
      },
      "source": [
        "# Make Data Model ready"
      ]
    },
    {
      "cell_type": "markdown",
      "metadata": {
        "id": "cpLxW_UipEJY"
      },
      "source": [
        "## 1.1 encoding process_excerpt: Bag of Words"
      ]
    },
    {
      "cell_type": "code",
      "metadata": {
        "colab": {
          "base_uri": "https://localhost:8080/"
        },
        "id": "O3R4JhPmpEJY",
        "outputId": "f21f1e77-77ef-4d64-fad6-2472bc147d8c"
      },
      "source": [
        "vectorizer = CountVectorizer(min_df = 10, ngram_range = (1,2))\n",
        "X_train_excerpt_bow = vectorizer.fit_transform(X_train['process_excerpt'].values)\n",
        "X_cv_excerpt_bow = vectorizer.transform(X_cv['process_excerpt'])\n",
        "X_test_excerpt_bow = vectorizer.transform(X_test['process_excerpt'].values)\n",
        "test_data_excerpt_bow = vectorizer.transform(test_data['process_excerpt'].values)\n",
        "\n",
        "print(X_train_excerpt_bow.shape)\n",
        "print(X_cv_excerpt_bow.shape)\n",
        "print(X_test_excerpt_bow.shape)\n",
        "print(test_data_excerpt_bow.shape)"
      ],
      "execution_count": null,
      "outputs": [
        {
          "name": "stdout",
          "output_type": "stream",
          "text": [
            "(2294, 2924)\n",
            "(255, 2924)\n",
            "(284, 2924)\n",
            "(7, 2924)\n"
          ]
        }
      ]
    },
    {
      "cell_type": "markdown",
      "metadata": {
        "id": "Qh7yFGXhpEJY"
      },
      "source": [
        "## 1.2 encoding process_excerpt: TFIDF"
      ]
    },
    {
      "cell_type": "code",
      "metadata": {
        "colab": {
          "base_uri": "https://localhost:8080/"
        },
        "id": "R2co0X4_pEJZ",
        "outputId": "e3eccefb-a2b6-4a1c-e61a-fdc7c56b8dae"
      },
      "source": [
        "vectorizer = TfidfVectorizer(min_df = 10, ngram_range = (1,2))\n",
        "X_train_excerpt_Tfidf = vectorizer.fit_transform(X_train['process_excerpt'].values)\n",
        "X_cv_excerpt_Tfidf = vectorizer.transform(X_cv['process_excerpt'])\n",
        "X_test_excerpt_Tfidf = vectorizer.transform(X_test['process_excerpt'].values)\n",
        "test_data_excerpt_Tfidf = vectorizer.transform(test_data['process_excerpt'].values)\n",
        "dictionary = dict(zip(vectorizer.get_feature_names(), list(vectorizer.idf_)))\n",
        "\n",
        "print(X_train_excerpt_Tfidf.shape)\n",
        "print(X_cv_excerpt_Tfidf.shape)\n",
        "print(X_test_excerpt_Tfidf.shape)\n",
        "print(test_data_excerpt_Tfidf.shape)"
      ],
      "execution_count": null,
      "outputs": [
        {
          "name": "stdout",
          "output_type": "stream",
          "text": [
            "(2294, 2924)\n",
            "(255, 2924)\n",
            "(284, 2924)\n",
            "(7, 2924)\n"
          ]
        }
      ]
    },
    {
      "cell_type": "markdown",
      "metadata": {
        "id": "VTFmVAgnpEJZ"
      },
      "source": [
        "## 1.2 encoding process_excerpt: TFIDF weighted W2V"
      ]
    },
    {
      "cell_type": "code",
      "metadata": {
        "id": "7MdXVrF2pEJZ"
      },
      "source": [
        "list_of_sentence = []\n",
        "for sentence in X_train['process_excerpt']:\n",
        "    list_of_sentence.append(sentence.split())"
      ],
      "execution_count": null,
      "outputs": []
    },
    {
      "cell_type": "code",
      "metadata": {
        "id": "821fn3IHpEJZ"
      },
      "source": [
        "w2v_model = Word2Vec(list_of_sentence, min_count = 5, size = 500, workers = 4)\n",
        "w2v_words = list(w2v_model.wv.vocab.keys())"
      ],
      "execution_count": null,
      "outputs": []
    },
    {
      "cell_type": "code",
      "metadata": {
        "colab": {
          "base_uri": "https://localhost:8080/"
        },
        "id": "xxbPvFg9pEJZ",
        "outputId": "102aaecb-87f8-4801-ba2e-aa48ff53412b"
      },
      "source": [
        "avg_w2v_vectors_train = []; # the avg-w2v for each sentence/review is stored in this list\n",
        "for sentence in tqdm.tqdm(X_train['process_excerpt'].values): # for each review/sentence\n",
        "    vector = np.zeros(500) # as word vectors are of zero length\n",
        "    cnt_words =0; # num of words with a valid vector in the sentence/review\n",
        "    for word in sentence.split(): # for each word in a review/sentence\n",
        "        if word in w2v_words:\n",
        "            vector += w2v_model.wv[word]\n",
        "            cnt_words += 1\n",
        "    if cnt_words != 0:\n",
        "        vector /= cnt_words\n",
        "    avg_w2v_vectors_train.append(vector)\n",
        "    \n",
        "avg_w2v_vectors_train = coo_matrix(np.array(avg_w2v_vectors_train))\n",
        "avg_w2v_vectors_train.shape"
      ],
      "execution_count": null,
      "outputs": [
        {
          "name": "stderr",
          "output_type": "stream",
          "text": [
            "100%|██████████| 2294/2294 [00:08<00:00, 262.14it/s]\n"
          ]
        },
        {
          "data": {
            "text/plain": [
              "(2294, 500)"
            ]
          },
          "execution_count": 66,
          "metadata": {},
          "output_type": "execute_result"
        }
      ]
    },
    {
      "cell_type": "code",
      "metadata": {
        "colab": {
          "base_uri": "https://localhost:8080/"
        },
        "id": "X49O-awrpEJa",
        "outputId": "ef6644f1-ee23-4dd7-db8c-8345a5b6fa85"
      },
      "source": [
        "tfidf_feat = vectorizer.get_feature_names()\n",
        "tfidf_w2v_vectors_train = []; # the avg-w2v for each sentence/review is stored in this list\n",
        "for sentence in tqdm.tqdm(X_train['process_excerpt'].values): # for each review/sentence\n",
        "    sent_vector = np.zeros(500) # as word vectors are of zero length\n",
        "    weight_sum =0; # num of words with a valid vector in the sentence/review\n",
        "    for word in sentence.split(): # for each word in a review/sentence\n",
        "        if word in w2v_words and word in tfidf_feat:\n",
        "            vector = w2v_model.wv[word]\n",
        "            tf_idf = dictionary[word]*(sentence.count(word)/len(sentence))\n",
        "            sent_vector += (vector*tf_idf)\n",
        "            weight_sum += tf_idf\n",
        "    if weight_sum != 0:\n",
        "        sent_vector /= weight_sum\n",
        "    tfidf_w2v_vectors_train.append(sent_vector)\n",
        "    \n",
        "tfidf_w2v_vectors_train = coo_matrix(np.array(tfidf_w2v_vectors_train))\n",
        "tfidf_w2v_vectors_train.shape"
      ],
      "execution_count": null,
      "outputs": [
        {
          "name": "stderr",
          "output_type": "stream",
          "text": [
            "100%|██████████| 2294/2294 [00:21<00:00, 108.38it/s]\n"
          ]
        },
        {
          "data": {
            "text/plain": [
              "(2294, 500)"
            ]
          },
          "execution_count": 67,
          "metadata": {},
          "output_type": "execute_result"
        }
      ]
    },
    {
      "cell_type": "code",
      "metadata": {
        "colab": {
          "base_uri": "https://localhost:8080/"
        },
        "id": "l2aCy7qspEJa",
        "outputId": "590fd742-e419-41e3-dbb8-ea6f50058066"
      },
      "source": [
        "tfidf_feat = vectorizer.get_feature_names()\n",
        "tfidf_w2v_vectors_cv = []; # the avg-w2v for each sentence/review is stored in this list\n",
        "for sentence in tqdm.tqdm(X_cv['process_excerpt'].values): # for each review/sentence\n",
        "    sent_vector = np.zeros(500) # as word vectors are of zero length\n",
        "    weight_sum =0; # num of words with a valid vector in the sentence/review\n",
        "    for word in sentence.split(): # for each word in a review/sentence\n",
        "        if word in w2v_words and word in tfidf_feat:\n",
        "            vector = w2v_model.wv[word]\n",
        "            tf_idf = dictionary[word]*(sentence.count(word)/len(sentence))\n",
        "            sent_vector += (vector*tf_idf)\n",
        "            weight_sum += tf_idf\n",
        "    if weight_sum != 0:\n",
        "        sent_vector /= weight_sum\n",
        "    tfidf_w2v_vectors_cv.append(sent_vector)\n",
        "    \n",
        "tfidf_w2v_vectors_cv = coo_matrix(np.array(tfidf_w2v_vectors_cv))\n",
        "tfidf_w2v_vectors_cv.shape"
      ],
      "execution_count": null,
      "outputs": [
        {
          "name": "stderr",
          "output_type": "stream",
          "text": [
            "100%|██████████| 255/255 [00:02<00:00, 107.85it/s]\n"
          ]
        },
        {
          "data": {
            "text/plain": [
              "(255, 500)"
            ]
          },
          "execution_count": 68,
          "metadata": {},
          "output_type": "execute_result"
        }
      ]
    },
    {
      "cell_type": "code",
      "metadata": {
        "colab": {
          "base_uri": "https://localhost:8080/"
        },
        "id": "foFmOBX9pEJa",
        "outputId": "1fa8ece8-4b97-419a-aa74-24fa2e67b400"
      },
      "source": [
        "tfidf_feat = vectorizer.get_feature_names()\n",
        "tfidf_w2v_vectors_test = []; # the avg-w2v for each sentence/review is stored in this list\n",
        "for sentence in tqdm.tqdm(X_test['process_excerpt'].values): # for each review/sentence\n",
        "    sent_vector = np.zeros(500) # as word vectors are of zero length\n",
        "    weight_sum =0; # num of words with a valid vector in the sentence/review\n",
        "    for word in sentence.split(): # for each word in a review/sentence\n",
        "        if word in w2v_words and word in tfidf_feat:\n",
        "            vector = w2v_model.wv[word]\n",
        "            tf_idf = dictionary[word]*(sentence.count(word)/len(sentence))\n",
        "            sent_vector += (vector*tf_idf)\n",
        "            weight_sum += tf_idf\n",
        "    if weight_sum != 0:\n",
        "        sent_vector /= weight_sum\n",
        "    tfidf_w2v_vectors_test.append(sent_vector)\n",
        "    \n",
        "tfidf_w2v_vectors_test = coo_matrix(np.array(tfidf_w2v_vectors_test))\n",
        "tfidf_w2v_vectors_test.shape"
      ],
      "execution_count": null,
      "outputs": [
        {
          "name": "stderr",
          "output_type": "stream",
          "text": [
            "100%|██████████| 284/284 [00:02<00:00, 108.05it/s]\n"
          ]
        },
        {
          "data": {
            "text/plain": [
              "(284, 500)"
            ]
          },
          "execution_count": 69,
          "metadata": {},
          "output_type": "execute_result"
        }
      ]
    },
    {
      "cell_type": "code",
      "metadata": {
        "colab": {
          "base_uri": "https://localhost:8080/"
        },
        "id": "7SLdfK0ipEJa",
        "outputId": "da45a115-f3f3-4bdf-9901-e13bb4a0631a"
      },
      "source": [
        "tfidf_feat = vectorizer.get_feature_names()\n",
        "tfidf_w2v_vectors_test_data = []; # the avg-w2v for each sentence/review is stored in this list\n",
        "for sentence in tqdm.tqdm(test_data['process_excerpt'].values): # for each review/sentence\n",
        "    sent_vector = np.zeros(500) # as word vectors are of zero length\n",
        "    weight_sum =0; # num of words with a valid vector in the sentence/review\n",
        "    for word in sentence.split(): # for each word in a review/sentence\n",
        "        if word in w2v_words and word in tfidf_feat:\n",
        "            vector = w2v_model.wv[word]\n",
        "            tf_idf = dictionary[word]*(sentence.count(word)/len(sentence))\n",
        "            sent_vector += (vector*tf_idf)\n",
        "            weight_sum += tf_idf\n",
        "    if weight_sum != 0:\n",
        "        sent_vector /= weight_sum\n",
        "    tfidf_w2v_vectors_test_data.append(sent_vector)\n",
        "    \n",
        "tfidf_w2v_vectors_test_data = coo_matrix(np.array(tfidf_w2v_vectors_test_data))\n",
        "tfidf_w2v_vectors_test_data.shape"
      ],
      "execution_count": null,
      "outputs": [
        {
          "name": "stderr",
          "output_type": "stream",
          "text": [
            "100%|██████████| 7/7 [00:00<00:00, 89.24it/s]\n"
          ]
        },
        {
          "data": {
            "text/plain": [
              "(7, 500)"
            ]
          },
          "execution_count": 70,
          "metadata": {},
          "output_type": "execute_result"
        }
      ]
    },
    {
      "cell_type": "markdown",
      "metadata": {
        "id": "gUJcfwMgpEJb"
      },
      "source": [
        "## 2. encoding word_count: MinMaxScaler"
      ]
    },
    {
      "cell_type": "code",
      "metadata": {
        "colab": {
          "base_uri": "https://localhost:8080/"
        },
        "id": "GcK0VwLBpEJb",
        "outputId": "6405207c-87cc-4009-a857-36a40a5372f5"
      },
      "source": [
        "scaler = MinMaxScaler()\n",
        "scaler.fit(X_train['word_count'].values.reshape(-1, 1))\n",
        "X_train_word_nr = scaler.transform(X_train['word_count'].values.reshape(-1,1))\n",
        "X_test_word_nr = scaler.transform(X_test['word_count'].values.reshape(-1,1))\n",
        "X_cv_word_nr = scaler.transform(X_cv['word_count'].values.reshape(-1,1))\n",
        "test_data_word_nr = scaler.transform(test_data['word_count'].values.reshape(-1,1))\n",
        "\n",
        "print(X_train_word_nr.shape)\n",
        "print(X_cv_word_nr.shape)\n",
        "print(X_test_word_nr.shape)\n",
        "print(test_data_word_nr.shape)"
      ],
      "execution_count": null,
      "outputs": [
        {
          "name": "stdout",
          "output_type": "stream",
          "text": [
            "(2294, 1)\n",
            "(255, 1)\n",
            "(284, 1)\n",
            "(7, 1)\n"
          ]
        }
      ]
    },
    {
      "cell_type": "markdown",
      "metadata": {
        "id": "QZX3dWYypEJb"
      },
      "source": [
        "## 3. encoding excerpt_len: MinMaxScaler"
      ]
    },
    {
      "cell_type": "code",
      "metadata": {
        "colab": {
          "base_uri": "https://localhost:8080/"
        },
        "id": "ILG0V6IPpEJb",
        "outputId": "3440488b-c698-4899-a26c-18d611598d66"
      },
      "source": [
        "scaler = MinMaxScaler()\n",
        "scaler.fit(X_train['excerpt_len'].values.reshape(-1, 1))\n",
        "X_train_len_nr = scaler.transform(X_train['excerpt_len'].values.reshape(-1,1))\n",
        "X_test_len_nr = scaler.transform(X_test['excerpt_len'].values.reshape(-1,1))\n",
        "X_cv_len_nr = scaler.transform(X_cv['excerpt_len'].values.reshape(-1,1))\n",
        "test_data_len_nr = scaler.transform(test_data['excerpt_len'].values.reshape(-1,1))\n",
        "\n",
        "print(X_train_len_nr.shape)\n",
        "print(X_cv_len_nr.shape)\n",
        "print(X_test_len_nr.shape)\n",
        "print(test_data_len_nr.shape)"
      ],
      "execution_count": null,
      "outputs": [
        {
          "name": "stdout",
          "output_type": "stream",
          "text": [
            "(2294, 1)\n",
            "(255, 1)\n",
            "(284, 1)\n",
            "(7, 1)\n"
          ]
        }
      ]
    },
    {
      "cell_type": "code",
      "metadata": {
        "colab": {
          "base_uri": "https://localhost:8080/"
        },
        "id": "P1ZdBKO_pEJc",
        "outputId": "4c4dc790-7047-4737-ecbb-89b787cd5e35"
      },
      "source": [
        "scaler = MinMaxScaler()\n",
        "scaler.fit(X_train['TWC'].values.reshape(-1, 1))\n",
        "X_train_twc_nr = scaler.transform(X_train['TWC'].values.reshape(-1,1))\n",
        "X_test_twc_nr = scaler.transform(X_test['TWC'].values.reshape(-1,1))\n",
        "X_cv_twc_nr = scaler.transform(X_cv['TWC'].values.reshape(-1,1))\n",
        "test_data_twc_nr = scaler.transform(test_data['TWC'].values.reshape(-1,1))\n",
        "\n",
        "print(X_train_twc_nr.shape)\n",
        "print(X_cv_twc_nr.shape)\n",
        "print(X_test_twc_nr.shape)\n",
        "print(test_data_twc_nr.shape)"
      ],
      "execution_count": null,
      "outputs": [
        {
          "name": "stdout",
          "output_type": "stream",
          "text": [
            "(2294, 1)\n",
            "(255, 1)\n",
            "(284, 1)\n",
            "(7, 1)\n"
          ]
        }
      ]
    },
    {
      "cell_type": "code",
      "metadata": {
        "colab": {
          "base_uri": "https://localhost:8080/"
        },
        "id": "XAiJ4PSppEJc",
        "outputId": "6a53b730-27bf-4e7b-d198-787109dd940c"
      },
      "source": [
        "scaler = MinMaxScaler()\n",
        "scaler.fit(X_train['PWC'].values.reshape(-1, 1))\n",
        "X_train_pwc_nr = scaler.transform(X_train['PWC'].values.reshape(-1,1))\n",
        "X_test_pwc_nr = scaler.transform(X_test['PWC'].values.reshape(-1,1))\n",
        "X_cv_pwc_nr = scaler.transform(X_cv['PWC'].values.reshape(-1,1))\n",
        "test_data_pwc_nr = scaler.transform(test_data['PWC'].values.reshape(-1,1))\n",
        "\n",
        "print(X_train_pwc_nr.shape)\n",
        "print(X_cv_pwc_nr.shape)\n",
        "print(X_test_pwc_nr.shape)\n",
        "print(test_data_pwc_nr.shape)"
      ],
      "execution_count": null,
      "outputs": [
        {
          "name": "stdout",
          "output_type": "stream",
          "text": [
            "(2294, 1)\n",
            "(255, 1)\n",
            "(284, 1)\n",
            "(7, 1)\n"
          ]
        }
      ]
    },
    {
      "cell_type": "code",
      "metadata": {
        "colab": {
          "base_uri": "https://localhost:8080/"
        },
        "id": "wk8jkfC1pEJc",
        "outputId": "3f82ac12-254c-4805-adc4-7929e877f857"
      },
      "source": [
        "scaler = MinMaxScaler()\n",
        "scaler.fit(X_train['SWC'].values.reshape(-1, 1))\n",
        "X_train_swc_nr = scaler.transform(X_train['SWC'].values.reshape(-1,1))\n",
        "X_test_swc_nr = scaler.transform(X_test['SWC'].values.reshape(-1,1))\n",
        "X_cv_swc_nr = scaler.transform(X_cv['SWC'].values.reshape(-1,1))\n",
        "test_data_swc_nr = scaler.transform(test_data['SWC'].values.reshape(-1,1))\n",
        "\n",
        "print(X_train_swc_nr.shape)\n",
        "print(X_cv_swc_nr.shape)\n",
        "print(X_test_swc_nr.shape)\n",
        "print(test_data_swc_nr.shape)"
      ],
      "execution_count": null,
      "outputs": [
        {
          "name": "stdout",
          "output_type": "stream",
          "text": [
            "(2294, 1)\n",
            "(255, 1)\n",
            "(284, 1)\n",
            "(7, 1)\n"
          ]
        }
      ]
    },
    {
      "cell_type": "code",
      "metadata": {
        "colab": {
          "base_uri": "https://localhost:8080/"
        },
        "id": "QSTJlufCpEJc",
        "outputId": "840ae58b-41ee-4baf-890e-5dfcde6f90fe"
      },
      "source": [
        "scaler = MinMaxScaler()\n",
        "scaler.fit(X_train['TW_PW_ratio'].values.reshape(-1, 1))\n",
        "X_train_TW_PW_ratio_nr = scaler.transform(X_train['TW_PW_ratio'].values.reshape(-1,1))\n",
        "X_test_TW_PW_ratio_nr = scaler.transform(X_test['TW_PW_ratio'].values.reshape(-1,1))\n",
        "X_cv_TW_PW_ratio_nr = scaler.transform(X_cv['TW_PW_ratio'].values.reshape(-1,1))\n",
        "test_data_TW_PW_ratio_nr = scaler.transform(test_data['TW_PW_ratio'].values.reshape(-1,1))\n",
        "\n",
        "print(X_train_TW_PW_ratio_nr.shape)\n",
        "print(X_cv_TW_PW_ratio_nr.shape)\n",
        "print(X_test_TW_PW_ratio_nr.shape)\n",
        "print(test_data_TW_PW_ratio_nr.shape)"
      ],
      "execution_count": null,
      "outputs": [
        {
          "name": "stdout",
          "output_type": "stream",
          "text": [
            "(2294, 1)\n",
            "(255, 1)\n",
            "(284, 1)\n",
            "(7, 1)\n"
          ]
        }
      ]
    },
    {
      "cell_type": "markdown",
      "metadata": {
        "id": "Xvqrs0nupEJc"
      },
      "source": [
        "**Combine all**"
      ]
    },
    {
      "cell_type": "code",
      "metadata": {
        "colab": {
          "base_uri": "https://localhost:8080/"
        },
        "id": "BBNwHOzxpEJd",
        "outputId": "2e04187f-384d-4e25-f41a-5fce8ee46a78"
      },
      "source": [
        "X_tr = hstack([tfidf_w2v_vectors_train, X_train_len_nr, X_train_word_nr, X_train_twc_nr, X_train_pwc_nr, X_train_swc_nr, X_train['ratio'].values.reshape(-1,1)]).tocsr()\n",
        "X_cr = hstack([tfidf_w2v_vectors_cv, X_cv_len_nr, X_cv_word_nr, X_cv_twc_nr,X_cv_pwc_nr, X_cv_swc_nr, X_cv['ratio'].values.reshape(-1,1)]).tocsr()\n",
        "X_te = hstack([tfidf_w2v_vectors_test, X_test_len_nr, X_test_word_nr, X_test_twc_nr, X_test_pwc_nr, X_test_swc_nr, X_test['ratio'].values.reshape(-1,1)]).tocsr()\n",
        "test_da = hstack([tfidf_w2v_vectors_test_data, test_data_len_nr, test_data_word_nr, test_data_twc_nr, test_data_pwc_nr, test_data_swc_nr, test_data['ratio'].values.reshape(-1,1)]).tocsr()\n",
        "\n",
        "print(X_tr.shape)\n",
        "print(X_cr.shape)\n",
        "print(X_te.shape)\n",
        "print(test_da.shape)"
      ],
      "execution_count": null,
      "outputs": [
        {
          "name": "stdout",
          "output_type": "stream",
          "text": [
            "(2294, 506)\n",
            "(255, 506)\n",
            "(284, 506)\n",
            "(7, 506)\n"
          ]
        }
      ]
    },
    {
      "cell_type": "markdown",
      "metadata": {
        "id": "ep3-y8qZCCi5"
      },
      "source": [
        "# 1. Regression Model: TFIDF Weighted Word2Vec"
      ]
    },
    {
      "cell_type": "markdown",
      "metadata": {
        "id": "CGw8PcJLpEJd"
      },
      "source": [
        "##1.1 KNN Model"
      ]
    },
    {
      "cell_type": "markdown",
      "metadata": {
        "id": "Af-9CxvBpEJd"
      },
      "source": [
        "**Hyper parameter tuning**"
      ]
    },
    {
      "cell_type": "code",
      "metadata": {
        "colab": {
          "base_uri": "https://localhost:8080/",
          "height": 312
        },
        "id": "u95kEtjKpEJd",
        "outputId": "d5c850b4-5d2c-44fa-f5fd-fbe8ef847e08"
      },
      "source": [
        "from sklearn.neighbors import KNeighborsRegressor\n",
        "\n",
        "train_mse = []\n",
        "cv_mse = []\n",
        "K = [61,63,65,66,67,69,71,72,73,75,77,79,81,83]\n",
        "for i in tqdm.tqdm(K):\n",
        "    neigh = KNeighborsRegressor(n_neighbors = i)\n",
        "    neigh.fit(X_tr, y_train)\n",
        "\n",
        "    y_train_pred = neigh.predict(X_tr)   \n",
        "    y_cv_pred = neigh.predict(X_cr)\n",
        "\n",
        "    # roc_auc_score(y_true, y_score) the 2nd parameter should be probability estimates of the positive class\n",
        "    # not the predicted outputs        \n",
        "    train_mse.append(mean_squared_error(y_train,y_train_pred))\n",
        "    cv_mse.append(mean_squared_error(y_cv, y_cv_pred))\n",
        "\n",
        "plt.plot(K, train_mse, label='Train MSE')\n",
        "plt.plot(K, cv_mse, label='CV MSE')\n",
        "\n",
        "plt.scatter(K, train_mse, label='Train MSE points')\n",
        "plt.scatter(K, cv_mse, label='CV MSE points')\n",
        "\n",
        "plt.legend()\n",
        "plt.xlabel(\"K: hyperparameter\")\n",
        "plt.ylabel(\"MSE\")\n",
        "plt.title(\"ERROR PLOTS\")\n",
        "plt.grid()\n",
        "plt.show()"
      ],
      "execution_count": null,
      "outputs": [
        {
          "name": "stderr",
          "output_type": "stream",
          "text": [
            "100%|██████████| 14/14 [01:45<00:00,  7.57s/it]\n"
          ]
        },
        {
          "data": {
            "image/png": "[encoded data removed]",
            "text/plain": [
              "<Figure size 432x288 with 1 Axes>"
            ]
          },
          "metadata": {},
          "output_type": "display_data"
        }
      ]
    },
    {
      "cell_type": "code",
      "metadata": {
        "colab": {
          "base_uri": "https://localhost:8080/"
        },
        "id": "uoCReziGpEJd",
        "outputId": "14e9b77b-3e3b-49a6-feb2-cf45a99a0b50"
      },
      "source": [
        "# Best K\n",
        "best_k = 65\n",
        "neighbor = KNeighborsRegressor(n_neighbors = best_k)\n",
        "neighbor.fit(X_tr, y_train)\n",
        "y_test_pred = neighbor.predict(X_te)\n",
        "print(mean_squared_error(y_test_pred,y_test))"
      ],
      "execution_count": null,
      "outputs": [
        {
          "name": "stdout",
          "output_type": "stream",
          "text": [
            "0.9971563880354178\n"
          ]
        }
      ]
    },
    {
      "cell_type": "markdown",
      "metadata": {
        "id": "nC-jgTnD11ZY"
      },
      "source": [
        "## 1.2 Linear Regression Model"
      ]
    },
    {
      "cell_type": "code",
      "metadata": {
        "colab": {
          "base_uri": "https://localhost:8080/"
        },
        "id": "YieFpIHQpEJd",
        "outputId": "95427ba0-8414-43d7-fffd-e7ca76faed0f"
      },
      "source": [
        "from sklearn.linear_model import LinearRegression\n",
        "lr = LinearRegression()\n",
        "lr.fit(X_tr, y_train)\n",
        "y_test_pred = lr.predict(X_te)\n",
        "print(mean_squared_error(y_test_pred,y_test))"
      ],
      "execution_count": null,
      "outputs": [
        {
          "name": "stdout",
          "output_type": "stream",
          "text": [
            "0.8397281382191332\n"
          ]
        }
      ]
    },
    {
      "cell_type": "markdown",
      "metadata": {
        "id": "Q45k5SID2EuO"
      },
      "source": [
        "##1.3 Random Forest Regression Model"
      ]
    },
    {
      "cell_type": "code",
      "metadata": {
        "colab": {
          "background_save": true,
          "base_uri": "https://localhost:8080/"
        },
        "id": "ES-qR1sIpEJe",
        "outputId": "11df1ac3-0687-441d-ed4c-605a846b558d"
      },
      "source": [
        "from sklearn.ensemble import RandomForestRegressor\n",
        "train_mse = []\n",
        "cv_mse = []\n",
        "n = [70,80, 90, 100, 110, 120, 130]\n",
        "for i in tqdm.tqdm(n):\n",
        "    lr = RandomForestRegressor(n_estimators = i, )\n",
        "    lr.fit(X_tr, y_train)\n",
        "\n",
        "    y_train_pred = lr.predict(X_tr)   \n",
        "    y_cv_pred = lr.predict(X_cr)\n",
        "\n",
        "    # roc_auc_score(y_true, y_score) the 2nd parameter should be probability estimates of the positive class\n",
        "    # not the predicted outputs        \n",
        "    train_mse.append(mean_squared_error(y_train,y_train_pred))\n",
        "    cv_mse.append(mean_squared_error(y_cv, y_cv_pred))\n",
        "\n",
        "plt.plot(n, train_mse, label='Train MSE')\n",
        "plt.plot(n, cv_mse, label='CV MSE')\n",
        "\n",
        "plt.scatter(n, train_mse, label='Train MSE points')\n",
        "plt.scatter(n, cv_mse, label='CV MSE points')\n",
        "\n",
        "plt.legend()\n",
        "plt.xlabel(\"n: hyperparameter\")\n",
        "plt.ylabel(\"MSE\")\n",
        "plt.title(\"ERROR PLOTS\")\n",
        "plt.grid()\n",
        "plt.show()"
      ],
      "execution_count": null,
      "outputs": [
        {
          "name": "stderr",
          "output_type": "stream",
          "text": [
            "100%|██████████| 7/7 [27:29<00:00, 235.61s/it]\n"
          ]
        },
        {
          "data": {
            "image/png": "[encoded data removed]",
            "text/plain": [
              "<Figure size 432x288 with 1 Axes>"
            ]
          },
          "metadata": {},
          "output_type": "display_data"
        }
      ]
    },
    {
      "cell_type": "code",
      "metadata": {
        "colab": {
          "base_uri": "https://localhost:8080/"
        },
        "id": "IjbGeFgGpEJe",
        "outputId": "0dff5e7a-8248-410c-a282-083b15d0a772"
      },
      "source": [
        "from sklearn.ensemble import RandomForestRegressor\n",
        "lr = RandomForestRegressor(n_estimators = 90, random_state = 42)\n",
        "lr.fit(X_tr, y_train)\n",
        "y_test_pred = lr.predict(X_te)\n",
        "print(mean_squared_error(y_test_pred,y_test))"
      ],
      "execution_count": null,
      "outputs": [
        {
          "name": "stdout",
          "output_type": "stream",
          "text": [
            "0.8229056389154296\n"
          ]
        }
      ]
    },
    {
      "cell_type": "markdown",
      "metadata": {
        "id": "A_UaF2JmCxEN"
      },
      "source": [
        "##1.4 GradientBoosting Regression Model"
      ]
    },
    {
      "cell_type": "code",
      "metadata": {
        "colab": {
          "base_uri": "https://localhost:8080/"
        },
        "id": "XixSPy-SpEJe",
        "outputId": "3894eb5b-40f0-4b6c-b462-51c1d08401f0"
      },
      "source": [
        "lr = GradientBoostingRegressor(n_estimators = 110)\n",
        "lr.fit(X_tr, y_train)\n",
        "y_test_pred = lr.predict(X_te)\n",
        "print(mean_squared_error(y_test_pred,y_test))\n"
      ],
      "execution_count": null,
      "outputs": [
        {
          "name": "stdout",
          "output_type": "stream",
          "text": [
            "0.7873638058109237\n"
          ]
        }
      ]
    },
    {
      "cell_type": "markdown",
      "metadata": {
        "id": "38giOIebC_f2"
      },
      "source": [
        "##1.5 Linear Support Vector Regression Model"
      ]
    },
    {
      "cell_type": "code",
      "metadata": {
        "colab": {
          "base_uri": "https://localhost:8080/"
        },
        "id": "3IIElS5-pEJe",
        "outputId": "d2b5c92e-0120-46bd-879d-813a37c7bdd8"
      },
      "source": [
        "lr = LinearSVR(random_state = 42)\n",
        "lr.fit(X_tr, y_train)\n",
        "y_test_pred = lr.predict(X_te)\n",
        "print(mean_squared_error(y_test_pred,y_test))"
      ],
      "execution_count": null,
      "outputs": [
        {
          "name": "stdout",
          "output_type": "stream",
          "text": [
            "0.8629634102409666\n"
          ]
        }
      ]
    },
    {
      "cell_type": "markdown",
      "metadata": {
        "id": "7KxGbiaIETok"
      },
      "source": [
        "#1.6 RidgeCV Model"
      ]
    },
    {
      "cell_type": "code",
      "metadata": {
        "colab": {
          "base_uri": "https://localhost:8080/"
        },
        "id": "JkwEAJoXpEJf",
        "outputId": "9a6b70fa-94ae-476d-e0e4-d591421305db"
      },
      "source": [
        "from sklearn.linear_model import RidgeCV\n",
        "lr = RidgeCV()\n",
        "lr.fit(X_tr, y_train)\n",
        "y_test_pred = lr.predict(X_te)\n",
        "print(mean_squared_error(y_test_pred,y_test))"
      ],
      "execution_count": null,
      "outputs": [
        {
          "name": "stdout",
          "output_type": "stream",
          "text": [
            "0.8073033523314266\n"
          ]
        }
      ]
    },
    {
      "cell_type": "markdown",
      "metadata": {
        "id": "qNuiHvDFE-V1"
      },
      "source": [
        "## 1.7 Multi Layer Perceptron Model"
      ]
    },
    {
      "cell_type": "code",
      "metadata": {
        "colab": {
          "base_uri": "https://localhost:8080/"
        },
        "id": "5MrWK6u-pEJf",
        "outputId": "e34a1638-b101-430f-c5d8-8032cec45a1b"
      },
      "source": [
        "from sklearn.neural_network import MLPRegressor\n",
        "lr = MLPRegressor()\n",
        "lr.fit(X_tr, y_train)\n",
        "y_test_pred = lr.predict(X_te)\n",
        "print(mean_squared_error(y_test_pred,y_test))"
      ],
      "execution_count": null,
      "outputs": [
        {
          "name": "stdout",
          "output_type": "stream",
          "text": [
            "0.8377228503200549\n"
          ]
        }
      ]
    },
    {
      "cell_type": "markdown",
      "metadata": {
        "id": "ycRBQxU_FzdT"
      },
      "source": [
        "## 1.8 Stacking Regression Model"
      ]
    },
    {
      "cell_type": "code",
      "metadata": {
        "colab": {
          "background_save": true
        },
        "id": "6bJMB2zipEJf",
        "outputId": "db6654d8-a101-4e5a-8874-e015b53bd1ea"
      },
      "source": [
        "from sklearn.ensemble import StackingRegressor\n",
        "estimators = [\n",
        "    ('knn', KNeighborsRegressor(n_neighbors = 21)),\n",
        "    ('RFR', RandomForestRegressor(n_estimators = 110, random_state = 42)),\n",
        "    ('GBDT', GradientBoostingRegressor(n_estimators = 110)),\n",
        "    ('SVM', LinearSVR(random_state = 42)),\n",
        "    ('RCV', RidgeCV()),\n",
        "    ('MLP', MLPRegressor())\n",
        "]\n",
        "reg = StackingRegressor(estimators = estimators, final_estimator = LinearRegression())\n",
        "reg.fit(X_tr, y_train)\n",
        "y_test_pred = reg.predict(X_te)\n",
        "print(mean_squared_error(y_test_pred,y_test))"
      ],
      "execution_count": null,
      "outputs": [
        {
          "name": "stdout",
          "output_type": "stream",
          "text": [
            "0.7568266455997712\n"
          ]
        }
      ]
    },
    {
      "cell_type": "markdown",
      "metadata": {
        "id": "zU6GG-LApfA0"
      },
      "source": [
        "# 2. Regression Model: TFIDF "
      ]
    },
    {
      "cell_type": "code",
      "metadata": {
        "colab": {
          "base_uri": "https://localhost:8080/"
        },
        "id": "QYGIjgd8pEJe",
        "outputId": "4196beda-47d6-405c-9e0b-eeb6f1d35508"
      },
      "source": [
        "X_tr = hstack([X_train_excerpt_Tfidf, X_train_len_nr, X_train_word_nr, X_train_twc_nr, X_train_pwc_nr, X_train_swc_nr, X_train['ratio'].values.reshape(-1,1)]).tocsr()\n",
        "X_cr = hstack([X_cv_excerpt_Tfidf, X_cv_len_nr, X_cv_word_nr, X_cv_twc_nr,X_cv_pwc_nr, X_cv_swc_nr, X_cv['ratio'].values.reshape(-1,1)]).tocsr()\n",
        "X_te = hstack([X_test_excerpt_Tfidf, X_test_len_nr, X_test_word_nr, X_test_twc_nr, X_test_pwc_nr, X_test_swc_nr, X_test['ratio'].values.reshape(-1,1)]).tocsr()\n",
        "test_da = hstack([test_data_excerpt_Tfidf, test_data_len_nr, test_data_word_nr, test_data_twc_nr, test_data_pwc_nr, test_data_swc_nr, test_data['ratio'].values.reshape(-1,1)]).tocsr()\n",
        "\n",
        "print(X_tr.shape)\n",
        "print(X_cr.shape)\n",
        "print(X_te.shape)\n",
        "print(test_da.shape)"
      ],
      "execution_count": null,
      "outputs": [
        {
          "name": "stdout",
          "output_type": "stream",
          "text": [
            "(2294, 2930)\n",
            "(255, 2930)\n",
            "(284, 2930)\n",
            "(7, 2930)\n"
          ]
        }
      ]
    },
    {
      "cell_type": "markdown",
      "metadata": {
        "id": "K8dZb_2erIeV"
      },
      "source": [
        "##2.1 KNN Model"
      ]
    },
    {
      "cell_type": "code",
      "metadata": {
        "colab": {
          "base_uri": "https://localhost:8080/"
        },
        "id": "AVzdNp6yrTCZ",
        "outputId": "8138540b-b457-45c9-e34b-adbbb5bd46d4"
      },
      "source": [
        "# Best K\n",
        "best_k = 65\n",
        "neighbor = KNeighborsRegressor(n_neighbors = best_k)\n",
        "neighbor.fit(X_tr, y_train)\n",
        "y_test_pred = neighbor.predict(X_te)\n",
        "print(mean_squared_error(y_test_pred,y_test))"
      ],
      "execution_count": null,
      "outputs": [
        {
          "name": "stdout",
          "output_type": "stream",
          "text": [
            "0.8042015465230331\n"
          ]
        }
      ]
    },
    {
      "cell_type": "markdown",
      "metadata": {
        "id": "aGmT3sDord0b"
      },
      "source": [
        "##2.2 Linear Regression Model"
      ]
    },
    {
      "cell_type": "code",
      "metadata": {
        "colab": {
          "base_uri": "https://localhost:8080/"
        },
        "id": "YJKwzZ9orc4R",
        "outputId": "ac8e81d9-6381-4e25-90d3-0af92d45a2e3"
      },
      "source": [
        "from sklearn.linear_model import LinearRegression\n",
        "lr = LinearRegression()\n",
        "lr.fit(X_tr, y_train)\n",
        "y_test_pred = lr.predict(X_te)\n",
        "print(mean_squared_error(y_test_pred,y_test))"
      ],
      "execution_count": null,
      "outputs": [
        {
          "name": "stdout",
          "output_type": "stream",
          "text": [
            "2.0290668319670924\n"
          ]
        }
      ]
    },
    {
      "cell_type": "markdown",
      "metadata": {
        "id": "0Kae1llirsDN"
      },
      "source": [
        "##2.3 Random Forest Regression Model"
      ]
    },
    {
      "cell_type": "code",
      "metadata": {
        "colab": {
          "base_uri": "https://localhost:8080/"
        },
        "id": "trDywhwMr0qg",
        "outputId": "3c17a963-f776-45f1-fcbb-9f8fb367319a"
      },
      "source": [
        "from sklearn.ensemble import RandomForestRegressor\n",
        "lr = RandomForestRegressor(n_estimators = 90, random_state = 42)\n",
        "lr.fit(X_tr, y_train)\n",
        "y_test_pred = lr.predict(X_te)\n",
        "print(mean_squared_error(y_test_pred,y_test))"
      ],
      "execution_count": null,
      "outputs": [
        {
          "name": "stdout",
          "output_type": "stream",
          "text": [
            "0.7443472108076541\n"
          ]
        }
      ]
    },
    {
      "cell_type": "markdown",
      "metadata": {
        "id": "4gDQ5txlr9nS"
      },
      "source": [
        "##2.4 GradientBoosting Regression Model"
      ]
    },
    {
      "cell_type": "code",
      "metadata": {
        "colab": {
          "base_uri": "https://localhost:8080/"
        },
        "id": "JP-OmLnGsGBa",
        "outputId": "3f7e71cc-7be5-4e15-e94b-24b795c0d3a1"
      },
      "source": [
        "lr = GradientBoostingRegressor(n_estimators = 110)\n",
        "lr.fit(X_tr, y_train)\n",
        "y_test_pred = lr.predict(X_te)\n",
        "print(mean_squared_error(y_test_pred,y_test))"
      ],
      "execution_count": null,
      "outputs": [
        {
          "name": "stdout",
          "output_type": "stream",
          "text": [
            "0.7484020607952598\n"
          ]
        }
      ]
    },
    {
      "cell_type": "markdown",
      "metadata": {
        "id": "H7hPCTeWsMmn"
      },
      "source": [
        "## 2.5 Linear Support Vector Regression Model"
      ]
    },
    {
      "cell_type": "code",
      "metadata": {
        "colab": {
          "base_uri": "https://localhost:8080/"
        },
        "id": "eJrdKh7ssTJf",
        "outputId": "09549001-441c-4c43-8e4c-fc0fe52f94e1"
      },
      "source": [
        "lr = LinearSVR(random_state = 42)\n",
        "lr.fit(X_tr, y_train)\n",
        "y_test_pred = lr.predict(X_te)\n",
        "print(mean_squared_error(y_test_pred,y_test))"
      ],
      "execution_count": null,
      "outputs": [
        {
          "name": "stdout",
          "output_type": "stream",
          "text": [
            "0.6484080878716683\n"
          ]
        }
      ]
    },
    {
      "cell_type": "markdown",
      "metadata": {
        "id": "ptDSg25qsdLP"
      },
      "source": [
        "##2.6 RidgeCV Model"
      ]
    },
    {
      "cell_type": "code",
      "metadata": {
        "colab": {
          "base_uri": "https://localhost:8080/"
        },
        "id": "UEcy3P5ssnea",
        "outputId": "4a07c5a3-99d8-41fe-8023-bb4a5b7a847e"
      },
      "source": [
        "from sklearn.linear_model import RidgeCV\n",
        "lr = RidgeCV()\n",
        "lr.fit(X_tr, y_train)\n",
        "y_test_pred = lr.predict(X_te)\n",
        "print(mean_squared_error(y_test_pred,y_test))"
      ],
      "execution_count": null,
      "outputs": [
        {
          "name": "stdout",
          "output_type": "stream",
          "text": [
            "0.6161073206780283\n"
          ]
        }
      ]
    },
    {
      "cell_type": "markdown",
      "metadata": {
        "id": "AxwncKEtstFE"
      },
      "source": [
        "##2.7 Multi Layer Perceptron Model"
      ]
    },
    {
      "cell_type": "code",
      "metadata": {
        "colab": {
          "base_uri": "https://localhost:8080/"
        },
        "id": "OBmgZ8-_s_CK",
        "outputId": "98f30131-344d-4311-fa12-efd9634986f7"
      },
      "source": [
        "from sklearn.neural_network import MLPRegressor\n",
        "lr = MLPRegressor()\n",
        "lr.fit(X_tr, y_train)\n",
        "y_test_pred = lr.predict(X_te)\n",
        "print(mean_squared_error(y_test_pred,y_test))"
      ],
      "execution_count": null,
      "outputs": [
        {
          "name": "stdout",
          "output_type": "stream",
          "text": [
            "0.8843513490816308\n"
          ]
        }
      ]
    },
    {
      "cell_type": "markdown",
      "metadata": {
        "id": "WAzRHSOBtKdn"
      },
      "source": [
        "## Stacking Regression Model"
      ]
    },
    {
      "cell_type": "code",
      "metadata": {
        "colab": {
          "base_uri": "https://localhost:8080/"
        },
        "id": "xsENhD8UtCxJ",
        "outputId": "f56697a3-3a12-4723-f293-303762d4b36c"
      },
      "source": [
        "from sklearn.ensemble import StackingRegressor\n",
        "estimators = [\n",
        "    ('knn', KNeighborsRegressor(n_neighbors = 21)),\n",
        "    ('RFR', RandomForestRegressor(n_estimators = 110, random_state = 42)),\n",
        "    ('GBDT', GradientBoostingRegressor(n_estimators = 110)),\n",
        "    ('SVM', LinearSVR(random_state = 42)),\n",
        "    ('RCV', RidgeCV()),\n",
        "    ('MLP', MLPRegressor())\n",
        "]\n",
        "reg = StackingRegressor(estimators = estimators, final_estimator = LinearRegression())\n",
        "reg.fit(X_tr, y_train)\n",
        "y_test_pred = reg.predict(X_te)\n",
        "print(mean_squared_error(y_test_pred,y_test))"
      ],
      "execution_count": null,
      "outputs": [
        {
          "name": "stdout",
          "output_type": "stream",
          "text": [
            "0.5981126473289778\n"
          ]
        }
      ]
    },
    {
      "cell_type": "markdown",
      "metadata": {
        "id": "70LJepGgpEJg"
      },
      "source": [
        "## Make submission"
      ]
    },
    {
      "cell_type": "code",
      "metadata": {
        "id": "pnzXPcRtpEJg"
      },
      "source": [
        "test_data['target'] = reg.predict(test_da)"
      ],
      "execution_count": null,
      "outputs": []
    },
    {
      "cell_type": "code",
      "metadata": {
        "colab": {
          "base_uri": "https://localhost:8080/",
          "height": 265
        },
        "id": "DIKAmPf9pEJg",
        "outputId": "d6a01568-ed1c-414f-ccfe-1e5b89907378"
      },
      "source": [
        "submission = test_data[['id','target']]\n",
        "submission.head(8)"
      ],
      "execution_count": null,
      "outputs": [
        {
          "data": {
            "text/html": [
              "<div>\n",
              "<style scoped>\n",
              "    .dataframe tbody tr th:only-of-type {\n",
              "        vertical-align: middle;\n",
              "    }\n",
              "\n",
              "    .dataframe tbody tr th {\n",
              "        vertical-align: top;\n",
              "    }\n",
              "\n",
              "    .dataframe thead th {\n",
              "        text-align: right;\n",
              "    }\n",
              "</style>\n",
              "<table border=\"1\" class=\"dataframe\">\n",
              "  <thead>\n",
              "    <tr style=\"text-align: right;\">\n",
              "      <th></th>\n",
              "      <th>id</th>\n",
              "      <th>target</th>\n",
              "    </tr>\n",
              "  </thead>\n",
              "  <tbody>\n",
              "    <tr>\n",
              "      <th>0</th>\n",
              "      <td>c0f722661</td>\n",
              "      <td>-0.914382</td>\n",
              "    </tr>\n",
              "    <tr>\n",
              "      <th>1</th>\n",
              "      <td>f0953f0a5</td>\n",
              "      <td>-0.402109</td>\n",
              "    </tr>\n",
              "    <tr>\n",
              "      <th>2</th>\n",
              "      <td>0df072751</td>\n",
              "      <td>-0.726457</td>\n",
              "    </tr>\n",
              "    <tr>\n",
              "      <th>3</th>\n",
              "      <td>04caf4e0c</td>\n",
              "      <td>-1.745953</td>\n",
              "    </tr>\n",
              "    <tr>\n",
              "      <th>4</th>\n",
              "      <td>0e63f8bea</td>\n",
              "      <td>-1.749591</td>\n",
              "    </tr>\n",
              "    <tr>\n",
              "      <th>5</th>\n",
              "      <td>12537fe78</td>\n",
              "      <td>-0.589353</td>\n",
              "    </tr>\n",
              "    <tr>\n",
              "      <th>6</th>\n",
              "      <td>965e592c0</td>\n",
              "      <td>0.333257</td>\n",
              "    </tr>\n",
              "  </tbody>\n",
              "</table>\n",
              "</div>"
            ],
            "text/plain": [
              "          id    target\n",
              "0  c0f722661 -0.914382\n",
              "1  f0953f0a5 -0.402109\n",
              "2  0df072751 -0.726457\n",
              "3  04caf4e0c -1.745953\n",
              "4  0e63f8bea -1.749591\n",
              "5  12537fe78 -0.589353\n",
              "6  965e592c0  0.333257"
            ]
          },
          "execution_count": 61,
          "metadata": {},
          "output_type": "execute_result"
        }
      ]
    },
    {
      "cell_type": "code",
      "metadata": {
        "colab": {
          "base_uri": "https://localhost:8080/"
        },
        "id": "mcXXkDE0pEJg",
        "outputId": "e0bfa27f-6d02-4f0d-fb04-7c2bbfe4f9ce"
      },
      "source": [
        "filename = 'submission.csv'\n",
        "submission.to_csv(filename,index=False)\n",
        "print('Saved file: ' + filename)"
      ],
      "execution_count": null,
      "outputs": [
        {
          "name": "stdout",
          "output_type": "stream",
          "text": [
            "Saved file: submission.csv\n"
          ]
        }
      ]
    }
  ]
}